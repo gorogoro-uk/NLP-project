{
  "nbformat": 4,
  "nbformat_minor": 0,
  "metadata": {
    "colab": {
      "name": "Sherlock_1.ipynb",
      "provenance": [],
      "collapsed_sections": [],
      "authorship_tag": "ABX9TyNOgQAEDdSrux9hzh0h4gio",
      "include_colab_link": true
    },
    "kernelspec": {
      "name": "python3",
      "display_name": "Python 3"
    }
  },
  "cells": [
    {
      "cell_type": "markdown",
      "metadata": {
        "id": "view-in-github",
        "colab_type": "text"
      },
      "source": [
        "<a href=\"https://colab.research.google.com/github/gorogoro-uk/NLP-project/blob/master/Sherlock_1.ipynb\" target=\"_parent\"><img src=\"https://colab.research.google.com/assets/colab-badge.svg\" alt=\"Open In Colab\"/></a>"
      ]
    },
    {
      "cell_type": "markdown",
      "metadata": {
        "id": "sEVAtEm0M3Vb",
        "colab_type": "text"
      },
      "source": [
        "# Sherlock Holmes Text prediction project"
      ]
    },
    {
      "cell_type": "code",
      "metadata": {
        "id": "NMLUrbXwMxeK",
        "colab_type": "code",
        "colab": {
          "base_uri": "https://localhost:8080/",
          "height": 122
        },
        "outputId": "ac360211-b9ae-4560-c6a1-ad02248c6db5"
      },
      "source": [
        "# mount google drive\n",
        "from google.colab import drive\n",
        "drive.mount(\"/content/drive\")"
      ],
      "execution_count": 1,
      "outputs": [
        {
          "output_type": "stream",
          "text": [
            "Go to this URL in a browser: https://accounts.google.com/o/oauth2/auth?client_id=947318989803-6bn6qk8qdgf4n4g3pfee6491hc0brc4i.apps.googleusercontent.com&redirect_uri=urn%3aietf%3awg%3aoauth%3a2.0%3aoob&scope=email%20https%3a%2f%2fwww.googleapis.com%2fauth%2fdocs.test%20https%3a%2f%2fwww.googleapis.com%2fauth%2fdrive%20https%3a%2f%2fwww.googleapis.com%2fauth%2fdrive.photos.readonly%20https%3a%2f%2fwww.googleapis.com%2fauth%2fpeopleapi.readonly&response_type=code\n",
            "\n",
            "Enter your authorization code:\n",
            "··········\n",
            "Mounted at /content/drive\n"
          ],
          "name": "stdout"
        }
      ]
    },
    {
      "cell_type": "code",
      "metadata": {
        "id": "mAQv9scBo8p7",
        "colab_type": "code",
        "colab": {
          "base_uri": "https://localhost:8080/",
          "height": 51
        },
        "outputId": "0eb1aa87-8d28-4dd5-cfe0-779e28c7820c"
      },
      "source": [
        "# import code\n",
        "import os\n",
        "import sys\n",
        "from pathlib import Path\n",
        "import string\n",
        "import re\n",
        "import tensorflow as tf\n",
        "from tensorflow.keras.preprocessing.text import Tokenizer\n",
        "from tensorflow.keras.preprocessing.sequence import pad_sequences\n",
        "import nltk\n",
        "nltk.download('punkt')\n",
        "from nltk.corpus import stopwords\n",
        "import numpy as np\n",
        "import tensorflow.keras.utils as ku\n",
        "from tensorflow.keras.models import Sequential\n",
        "from tensorflow.keras.layers import Embedding, LSTM, Dense, Dropout, Bidirectional\n",
        "from tensorflow.keras.callbacks import ModelCheckpoint, EarlyStopping, TensorBoard\n",
        "from tensorflow.keras import regularizers"
      ],
      "execution_count": 2,
      "outputs": [
        {
          "output_type": "stream",
          "text": [
            "[nltk_data] Downloading package punkt to /root/nltk_data...\n",
            "[nltk_data]   Unzipping tokenizers/punkt.zip.\n"
          ],
          "name": "stdout"
        }
      ]
    },
    {
      "cell_type": "code",
      "metadata": {
        "id": "xraYCcbQNe3Y",
        "colab_type": "code",
        "colab": {
          "base_uri": "https://localhost:8080/",
          "height": 156
        },
        "outputId": "6ba67828-11b9-4836-c578-b51844506a10"
      },
      "source": [
        "# define working directories on Google Drive\n",
        "SHERLOCK_DIR = './drive/My Drive/sherlock'\n",
        "print(f\"SHERLOCK_DIR: {SHERLOCK_DIR}\")\n",
        "STORY_DIR = Path(SHERLOCK_DIR) / 'story'\n",
        "MODEL_DIR = Path(SHERLOCK_DIR) / 'model'\n",
        "LOG_DIR = Path(SHERLOCK_DIR) / 'log'\n",
        "if not os.path.exists(STORY_DIR):\n",
        "  os.mkdir(STORY_DIR)\n",
        "if not os.path.exists(MODEL_DIR):\n",
        "  os.mkdir(MODEL_DIR)\n",
        "if not os.path.exists(LOG_DIR):\n",
        "  os.mkdir(LOG_DIR) \n",
        "print(f\"STORY_DIR: {STORY_DIR}\")\n",
        "print(f\"contents of STORY_DIR:    {os.listdir(STORY_DIR)}\")\n",
        "print(f\"MODEL_DIR: {MODEL_DIR}\")\n",
        "print(f\"contents of MODEL_DIR:    {os.listdir(MODEL_DIR)}\")\n",
        "print(f\"LOG_DIR: {LOG_DIR}\")\n",
        "print(f\"contents of LOG_DIR:    {os.listdir(LOG_DIR)}\")"
      ],
      "execution_count": 4,
      "outputs": [
        {
          "output_type": "stream",
          "text": [
            "SHERLOCK_DIR: ./drive/My Drive/sherlock\n",
            "STORY_DIR: drive/My Drive/sherlock/story\n",
            "contents of STORY_DIR:    ['sh_short.txt', 'sh_text_2.txt', 'sh_text_1.txt', 'sh_text_3.txt', 'sh_text_4.txt', 'sh_text_5.txt', 'sh_text_7.txt', 'sh_text_6.txt']\n",
            "MODEL_DIR: drive/My Drive/sherlock/model\n",
            "contents of MODEL_DIR:    []\n",
            "LOG_DIR: drive/My Drive/sherlock/log\n",
            "contents of LOG_DIR:    ['train', 'projector_config.pbtxt']\n"
          ],
          "name": "stdout"
        }
      ]
    },
    {
      "cell_type": "code",
      "metadata": {
        "id": "SBmEH_dPMGEl",
        "colab_type": "code",
        "colab": {
          "base_uri": "https://localhost:8080/",
          "height": 170
        },
        "outputId": "60af5700-da48-4e1f-f0cb-6e9ffd4813c2"
      },
      "source": [
        "# import story text files\n",
        "story_files = ['sh_text_1.txt','sh_text_2.txt','sh_text_3.txt','sh_text_4.txt','sh_text_5.txt','sh_text_6.txt','sh_text_7.txt']\n",
        "\n",
        "# data structure: list of strings, each string is one txt story file\n",
        "story_list = []\n",
        "for story_file in story_files:\n",
        "  with open(os.path.join(STORY_DIR, story_file),encoding='utf-8-sig') as reader:\n",
        "    print(f\"story_file: {os.path.join(STORY_DIR, story_file)}\")\n",
        "    raw_story_string = reader.read()\n",
        "    story_list.append(raw_story_string)\n",
        "\n",
        "print(f\"story_list length:  {len(story_list)}\")\n",
        "print(f\"story type: {type(story_list[0])}\")"
      ],
      "execution_count": 5,
      "outputs": [
        {
          "output_type": "stream",
          "text": [
            "story_file: drive/My Drive/sherlock/story/sh_text_1.txt\n",
            "story_file: drive/My Drive/sherlock/story/sh_text_2.txt\n",
            "story_file: drive/My Drive/sherlock/story/sh_text_3.txt\n",
            "story_file: drive/My Drive/sherlock/story/sh_text_4.txt\n",
            "story_file: drive/My Drive/sherlock/story/sh_text_5.txt\n",
            "story_file: drive/My Drive/sherlock/story/sh_text_6.txt\n",
            "story_file: drive/My Drive/sherlock/story/sh_text_7.txt\n",
            "story_list length:  7\n",
            "story type: <class 'str'>\n"
          ],
          "name": "stdout"
        }
      ]
    },
    {
      "cell_type": "code",
      "metadata": {
        "id": "O1g4jL6E6bkw",
        "colab_type": "code",
        "colab": {
          "base_uri": "https://localhost:8080/",
          "height": 34
        },
        "outputId": "b42d34e3-be08-46e1-bc09-83b2a175bce8"
      },
      "source": [
        "# Pre-process Texts\n",
        "# remove most punctuation & chapter numbers\n",
        "# keep sentence ending punctuation [.?!] to allow sentence splitting below\n",
        "# include other angled quote marks found in the text [”“‘’]\n",
        "# remove end of line \\n\n",
        "# remove chapter headings, Roman numerals & Arabic numerals\n",
        "# keep the pronoun 'I', 'I.'\n",
        "# split into sentences using NLTK\n",
        "# remove sentence ending punctuation, whitespace and make lowercase\n",
        "\n",
        "punc_string = \"\\\"#$%&'()*+,-/:;<=>@[\\]^_`{|}~'”“‘’—\"\n",
        "print(f\"punc string:  {punc_string}\")\n",
        "\n",
        "story_list_2 = []\n",
        "for story in story_list:\n",
        "\n",
        "    # clean up text\n",
        "    # data structure: list of stories, each sotry a single string\n",
        "    #print(f\"BEFORE punc:\\n{story[:100]}\")\n",
        "    tt = story.maketrans('', '', punc_string)                                   # remove punctuation\n",
        "    story = story.translate(tt)\n",
        "    story = story.replace('\\n',' ')                                             # remove end of line character\n",
        "    story = re.sub('(CHAPTER|Chapter|PART)','',story)                           # remove chapter headings\n",
        "    story = re.sub('(XIII|XII|XI|X|IX|VIII|VII|VI|V|IV|III|II)(\\.?)','',story)  # remove Roman numeral chaper numbers\n",
        "    story = re.sub('(\\d+)\\.\\s','',story)                                        # remove Arabic numeral chaper numbers\n",
        "    #print(f\"AFTER punc :\\n{story[:100]}\")\n",
        "\n",
        "    # split into sentences\n",
        "    # data structure: list of stories, each story a list of strings, one for each sentence\n",
        "    new_story = nltk.tokenize.sent_tokenize(story)\n",
        "    #print(f\"AFTER sentence :\\n{new_story[:100]}\")\n",
        "\n",
        "    # add updated story to list\n",
        "    story_list_2.append(new_story)"
      ],
      "execution_count": 6,
      "outputs": [
        {
          "output_type": "stream",
          "text": [
            "punc string:  \"#$%&'()*+,-/:;<=>@[\\]^_`{|}~'”“‘’—\n"
          ],
          "name": "stdout"
        }
      ]
    },
    {
      "cell_type": "code",
      "metadata": {
        "id": "0lbRlCHz7Qb7",
        "colab_type": "code",
        "colab": {
          "base_uri": "https://localhost:8080/",
          "height": 275
        },
        "outputId": "1d4e97b4-aeb7-4c98-edbb-2b48742f48d8"
      },
      "source": [
        "# remove sentence ending punctuation [.?!]\n",
        "story_list_3 = []\n",
        "for story in story_list_2:\n",
        "    new_story = []\n",
        "    for sentence in story:\n",
        "        sentence = sentence.translate(sentence.maketrans('','','.?!'))\n",
        "        sentence = sentence.replace('/t','')\n",
        "        sentence = sentence.strip()\n",
        "        new_sentence = sentence.lower()\n",
        "        new_story.append(new_sentence)\n",
        "    print(f\"AFTER :\\n{new_story[:100]}\")\n",
        "    story_list_3.append(new_story)"
      ],
      "execution_count": 7,
      "outputs": [
        {
          "output_type": "stream",
          "text": [
            "AFTER 2nd punc :\n",
            "['a scandal in bohemia   i', 'to sherlock holmes she is always the woman', 'i have seldom heard him mention her under any other name', 'in his eyes she eclipses and predominates the whole of her sex', 'it was not that he felt any emotion akin to love for irene adler', 'all emotions and that one particularly were abhorrent to his cold precise but admirably balanced mind', 'he was i take it the most perfect reasoning and observing machine that the world has seen but as a lover he would have placed himself in a false position', 'he never spoke of the softer passions save with a gibe and a sneer', 'they were admirable things for the observerexcellent for drawing the veil from mens motives and actions', 'but for the trained reasoner to admit such intrusions into his own delicate and finely adjusted temperament was to introduce a distracting factor which might throw a doubt upon all his mental results', 'grit in a sensitive instrument or a crack in one of his own highpower lenses would not be more disturbing than a strong emotion in a nature such as his', 'and yet there was but one woman to him and that woman was the late irene adler of dubious and questionable memory', 'i had seen little of holmes lately', 'my marriage had drifted us away from each other', 'my own complete happiness and the homecentred interests which rise up around the man who first finds himself master of his own establishment were sufficient to absorb all my attention while holmes who loathed every form of society with his whole bohemian soul remained in our lodgings in baker street buried among his old books and alternating from week to week between cocaine and ambition the drowsiness of the drug and the fierce energy of his own keen nature', 'he was still as ever deeply attracted by the study of crime and occupied his immense faculties and extraordinary powers of observation in following out those clues and clearing up those mysteries which had been abandoned as hopeless by the official police', 'from time to time i heard some vague account of his doings of his summons to odessa in the case of the trepoff murder of his clearing up of the singular tragedy of the atkinson brothers at trincomalee and finally of the mission which he had accomplished so delicately and successfully for the reigning family of holland', 'beyond these signs of his activity however which i merely shared with all the readers of the daily press i knew little of my former friend and companion', 'one nightit was on the twentieth of march 1888i was returning from a journey to a patient for i had now returned to civil practice when my way led me through baker street', 'as i passed the wellremembered door which must always be associated in my mind with my wooing and with the dark incidents of the study in scarlet i was seized with a keen desire to see holmes again and to know how he was employing his extraordinary powers', 'his rooms were brilliantly lit and even as i looked up i saw his tall spare figure pass twice in a dark silhouette against the blind', 'he was pacing the room swiftly eagerly with his head sunk upon his chest and his hands clasped behind him', 'to me who knew his every mood and habit his attitude and manner told their own story', 'he was at work again', 'he had risen out of his drugcreated dreams and was hot upon the scent of some new problem', 'i rang the bell and was shown up to the chamber which had formerly been in part my own', 'his manner was not effusive', 'it seldom was but he was glad i think to see me', 'with hardly a word spoken but with a kindly eye he waved me to an armchair threw across his case of cigars and indicated a spirit case and a gasogene in the corner', 'then he stood before the fire and looked me over in his singular introspective fashion', 'wedlock suits you he remarked', 'i think watson that you have put on seven and a half pounds since i saw you', 'seven', 'i answered', 'indeed i should have thought a little more', 'just a trifle more i fancy watson', 'and in practice again i observe', 'you did not tell me that you intended to go into harness', 'then how do you know', 'i see it i deduce it', 'how do i know that you have been getting yourself very wet lately and that you have a most clumsy and careless servant girl', 'my dear holmes said i this is too much', 'you would certainly have been burned had you lived a few centuries ago', 'it is true that i had a country walk on thursday and came home in a dreadful mess but as i have changed my clothes i cant imagine how you deduce it', 'as to mary jane she is incorrigible and my wife has given her notice but there again i fail to see how you work it out', 'he chuckled to himself and rubbed his long nervous hands together', 'it is simplicity itself said he my eyes tell me that on the inside of your left shoe just where the firelight strikes it the leather is scored by six almost parallel cuts', 'obviously they have been caused by someone who has very carelessly scraped round the edges of the sole in order to remove crusted mud from it', 'hence you see my double deduction that you had been out in vile weather and that you had a particularly malignant bootslitting specimen of the london slavey', 'as to your practice if a gentleman walks into my rooms smelling of iodoform with a black mark of nitrate of silver upon his right forefinger and a bulge on the right side of his tophat to show where he has secreted his stethoscope i must be dull indeed if i do not pronounce him to be an active member of the medical profession', 'i could not help laughing at the ease with which he explained his process of deduction', 'when i hear you give your reasons i remarked the thing always appears to me to be so ridiculously simple that i could easily do it myself though at each successive instance of your reasoning i am baffled until you explain your process', 'and yet i believe that my eyes are as good as yours', 'quite so he answered lighting a cigarette and throwing himself down into an armchair', 'you see but you do not observe', 'the distinction is clear', 'for example you have frequently seen the steps which lead up from the hall to this room', 'frequently', 'how often', 'well some hundreds of times', 'then how many are there', 'how many', 'i dont know', 'quite so', 'you have not observed', 'and yet you have seen', 'that is just my point', 'now i know that there are seventeen steps because i have both seen and observed', 'by the way since you are interested in these little problems and since you are good enough to chronicle one or two of my trifling experiences you may be interested in this', 'he threw over a sheet of thick pinktinted notepaper which had been lying open upon the table', 'it came by the last post said he', 'read it aloud', 'the note was undated and without either signature or address', 'there will call upon you tonight at a quarter to eight oclock it said a gentleman who desires to consult you upon a matter of the very deepest moment', 'your recent services to one of the royal houses of europe have shown that you are one who may safely be trusted with matters which are of an importance which can hardly be exaggerated', 'this account of you we have from all quarters received', 'be in your chamber then at that hour and do not take it amiss if your visitor wear a mask', 'this is indeed a mystery i remarked', 'what do you imagine that it means', 'i have no data yet', 'it is a capital mistake to theorise before one has data', 'insensibly one begins to twist facts to suit theories instead of theories to suit facts', 'but the note itself', 'what do you deduce from it', 'i carefully examined the writing and the paper upon which it was written', 'the man who wrote it was presumably well to do i remarked endeavouring to imitate my companions processes', 'such paper could not be bought under half a crown a packet', 'it is peculiarly strong and stiff', 'peculiarthat is the very word said holmes', 'it is not an english paper at all', 'hold it up to the light', 'i did so and saw a large e with a small g a p and a large g with a small t woven into the texture of the paper', 'what do you make of that', 'asked holmes', 'the name of the maker no doubt or his monogram rather', 'not at all', 'the g with the small t stands for gesellschaft which is the german for company', 'it is a customary contraction like our co p of course stands for papier', 'now for the eg', 'let us glance at our continental gazetteer']\n",
            "AFTER 2nd punc :\n",
            "['i mr sherlock holmes', 'in the year 1878 i took my degree of doctor of medicine of the university of london and proceeded to netley to go through the course prescribed for surgeons in the army', 'having completed my studies there i was duly attached to the fifth northumberland fusiliers as assistant surgeon', 'the regiment was stationed in india at the time and before i could join it the second afghan war had broken out', 'on landing at bombay i learned that my corps had advanced through the passes and was already deep in the enemys country', 'i followed however with many other officers who were in the same situation as myself and succeeded in reaching candahar in safety where i found my regiment and at once entered upon my new duties', 'the campaign brought honours and promotion to many but for me it had nothing but misfortune and disaster', 'i was removed from my brigade and attached to the berkshires with whom i served at the fatal battle of maiwand', 'there i was struck on the shoulder by a jezail bullet which shattered the bone and grazed the subclavian artery', 'i should have fallen into the hands of the murderous ghazis had it not been for the devotion and courage shown by murray my orderly who threw me across a packhorse and succeeded in bringing me safely to the british lines', 'worn with pain and weak from the prolonged hardships which i had undergone i was removed with a great train of wounded sufferers to the base hospital at peshawar', 'here i rallied and had already improved so far as to be able to walk about the wards and even to bask a little upon the verandah when i was struck down by enteric fever that curse of our indian possessions', 'for months my life was despaired of and when at last i came to myself and became convalescent i was so weak and emaciated that a medical board determined that not a day should be lost in sending me back to england', 'i was dispatched accordingly in the troopship orontes and landed a month later on portsmouth jetty with my health irretrievably ruined but with permission from a paternal government to spend the next nine months in attempting to improve it', 'i had neither kith nor kin in england and was therefore as free as airor as free as an income of eleven shillings and sixpence a day will permit a man to be', 'under such circumstances i naturally gravitated to london that great cesspool into which all the loungers and idlers of the empire are irresistibly drained', 'there i stayed for some time at a private hotel in the strand leading a comfortless meaningless existence and spending such money as i had considerably more freely than i ought', 'so alarming did the state of my finances become that i soon realized that i must either leave the metropolis and rusticate somewhere in the country or that i must make a complete alteration in my style of living', 'choosing the latter alternative i began by making up my mind to leave the hotel and to take up my quarters in some less pretentious and less expensive domicile', 'on the very day that i had come to this conclusion i was standing at the criterion bar when some one tapped me on the shoulder and turning round i recognized young stamford who had been a dresser under me at barts', 'the sight of a friendly face in the great wilderness of london is a pleasant thing indeed to a lonely man', 'in old days stamford had never been a particular crony of mine but now i hailed him with enthusiasm and he in his turn appeared to be delighted to see me', 'in the exuberance of my joy i asked him to lunch with me at the holborn and we started off together in a hansom', 'whatever have you been doing with yourself watson', 'he asked in undisguised wonder as we rattled through the crowded london streets', 'you are as thin as a lath and as brown as a nut', 'i gave him a short sketch of my adventures and had hardly concluded it by the time that we reached our destination', 'poor devil', 'he said commiseratingly after he had listened to my misfortunes', 'what are you up to now', 'looking for lodgings', '3 i answered', 'trying to solve the problem as to whether it is possible to get comfortable rooms at a reasonable price', 'thats a strange thing remarked my companion you are the second man today that has used that expression to me', 'and who was the first', 'i asked', 'a fellow who is working at the chemical laboratory up at the hospital', 'he was bemoaning himself this morning because he could not get someone to go halves with him in some nice rooms which he had found and which were too much for his purse', 'by jove', 'i cried if he really wants someone to share the rooms and the expense i am the very man for him', 'i should prefer having a partner to being alone', 'young stamford looked rather strangely at me over his wineglass', 'you dont know sherlock holmes yet he said perhaps you would not care for him as a constant companion', 'why what is there against him', 'oh i didnt say there was anything against him', 'he is a little queer in his ideasan enthusiast in some branches of science', 'as far as i know he is a decent fellow enough', 'a medical student i suppose', 'said i  noi have no idea what he intends to go in for', 'i believe he is well up in anatomy and he is a firstclass chemist but as far as i know he has never taken out any systematic medical classes', 'his studies are very desultory and eccentric but he has amassed a lot of outofthe way knowledge which would astonish his professors', 'did you never ask him what he was going in for', 'i asked', 'no he is not a man that it is easy to draw out though he can be communicative enough when the fancy seizes him', 'i should like to meet him i said', 'if i am to lodge with anyone i should prefer a man of studious and quiet habits', 'i am not strong enough yet to stand much noise or excitement', 'i had enough of both in afghanistan to last me for the remainder of my natural existence', 'how could i meet this friend of yours', 'he is sure to be at the laboratory returned my companion', 'he either avoids the place for weeks or else he works there from morning to night', 'if you like we shall drive round together after luncheon', 'certainly i answered and the conversation drifted away into other channels', 'as we made our way to the hospital after leaving the holborn stamford gave me a few more particulars about the gentleman whom i proposed to take as a fellowlodger', 'you mustnt blame me if you dont get on with him he said i know nothing more of him than i have learned from meeting him occasionally in the laboratory', 'you proposed this arrangement so you must not hold me responsible', 'if we dont get on it will be easy to part company i answered', 'it seems to me stamford i added looking hard at my companion that you have some reason for washing your hands of the matter', 'is this fellows temper so formidable or what is it', 'dont be mealymouthed about it', 'it is not easy to express the inexpressible he answered with a laugh', 'holmes is a little too scientific for my tastesit approaches to coldbloodedness', 'i could imagine his giving a friend a little pinch of the latest vegetable alkaloid not out of malevolence you understand but simply out of a spirit of inquiry in order to have an accurate idea of the effects', 'to do him justice i think that he would take it himself with the same readiness', 'he appears to have a passion for definite and exact knowledge', 'ery right too', 'yes but it may be pushed to excess', 'when it comes to beating the subjects in the dissectingrooms with a stick it is certainly taking rather a bizarre shape', 'beating the subjects', 'yes to verify how far bruises may be produced after death', 'i saw him at it with my own eyes', 'and yet you say he is not a medical student', 'no', 'heaven knows what the objects of his studies are', 'but here we are and you must form your own impressions about him', 'as he spoke we turned down a narrow lane and passed through a small sidedoor which opened into a wing of the great hospital', 'it was familiar ground to me and i needed no guiding as we ascended the bleak stone staircase and made our way down the long corridor with its vista of whitewashed wall and duncoloured doors', 'near the further end a low arched passage branched away from it and led to the chemical laboratory', 'this was a lofty chamber lined and littered with countless bottles', 'broad low tables were scattered about which bristled with retorts testtubes and little bunsen lamps with their blue flickering flames', 'there was only one student in the room who was bending over a distant table absorbed in his work', 'at the sound of our steps he glanced round and sprang to his feet with a cry of pleasure', 'ive found it', 'ive found it he shouted to my companion running towards us with a testtube in his hand', 'i have found a reagent which is precipitated by hoemoglobin 4 and by nothing else', 'had he discovered a gold mine greater delight could not have shone upon his features', 'dr watson mr sherlock holmes said stamford introducing us', 'how are you', 'he said cordially gripping my hand with a strength for which i should hardly have given him credit', 'you have been in afghanistan i perceive']\n",
            "AFTER 2nd punc :\n",
            "['mr sherlock holmes        mr sherlock holmes who was usually very late in the mornings       save upon those not infrequent occasions when he was up all       night was seated at the breakfast table', 'i stood upon the       hearthrug and picked up the stick which our visitor had left       behind him the night before', 'it was a fine thick piece of wood       bulbousheaded of the sort which is known as a penang lawyer', 'just under the head was a broad silver band nearly an inch       across', 'to james mortimer mrcs', 'from his friends of the       cch', 'was engraved upon it with the date it was just       such a stick as the oldfashioned family practitioner used to       carrydignified solid and reassuring', 'well watson what do you make of it', 'holmes was sitting with his back to me and i had given him no       sign of my occupation', 'how did you know what i was doing', 'i believe you have eyes in       the back of your head', 'i have at least a wellpolished silverplated coffeepot in       front of me said he', 'but tell me watson what do you make of       our visitors stick', 'since we have been so unfortunate as to miss       him and have no notion of his errand this accidental souvenir       becomes of importance', 'let me hear you reconstruct the man by an       examination of it', 'i think said i following as far as i could the methods of my       companion that dr mortimer is a successful elderly medical       man wellesteemed since those who know him give him this mark of       their appreciation', 'good', 'said holmes', 'excellent', 'i think also that the probability is in favour of his being a       country practitioner who does a great deal of his visiting on       foot', 'why so', 'because this stick though originally a very handsome one has       been so knocked about that i can hardly imagine a town       practitioner carrying it', 'the thickiron ferrule is worn down so       it is evident that he has done a great amount of walking with       it', 'perfectly sound', 'said holmes', 'and then again there is the friends of the cch', 'i should       guess that to be the something hunt the local hunt to whose       members he has possibly given some surgical assistance and which       has made him a small presentation in return', 'really watson you excel yourself said holmes pushing back       his chair and lighting a cigarette', 'i am bound to say that in       all the accounts which you have been so good as to give of my own       small achievements you have habitually underrated your own       abilities', 'it may be that you are not yourself luminous but you       are a conductor of light', 'some people without possessing genius       have a remarkable power of stimulating it', 'i confess my dear       fellow that i am very much in your debt', 'he had never said as much before and i must admit that his words       gave me keen pleasure for i had often been piqued by his       indifference to my admiration and to the attempts which i had       made to give publicity to his methods', 'i was proud too to think       that i had so far mastered his system as to apply it in a way       which earned his approval', 'he now took the stick from my hands       and examined it for a few minutes with his naked eyes', 'then with       an expression of interest he laid down his cigarette and       carrying the cane to the window he looked over it again with a       convex lens', 'interesting though elementary said he as he returned to his       favourite corner of the settee', 'there are certainly one or two       indications upon the stick', 'it gives us the basis for several       deductions', 'has anything escaped me', 'i asked with some selfimportance', 'i       trust that there is nothing of consequence which i have       overlooked', 'i am afraid my dear watson that most of your conclusions were       erroneous', 'when i said that you stimulated me i meant to be       frank that in noting your fallacies i was occasionally guided       towards the truth', 'not that you are entirely wrong in this       instance', 'the man is certainly a country practitioner', 'and he       walks a good deal', 'then i was right', 'to that extent', 'but that was all', 'no no my dear watson not allby no means all', 'i would       suggest for example that a presentation to a doctor is more       likely to come from a hospital than from a hunt and that when       the initials cc', 'are placed before that hospital the words       charing cross very naturally suggest themselves', 'you may be right', 'the probability lies in that direction', 'and if we take this as a       working hypothesis we have a fresh basis from which to start our       construction of this unknown visitor', 'well then supposing that cch', 'does stand for charing       cross hospital what further inferences may we draw', 'do none suggest themselves', 'you know my methods', 'apply them', 'i can only think of the obvious conclusion that the man has       practised in town before going to the country', 'i think that we might venture a little farther than this', 'look       at it in this light', 'on what occasion would it be most probable       that such a presentation would be made', 'when would his friends       unite to give him a pledge of their good will', 'obviously at the       moment when dr mortimer withdrew from the service of the       hospital in order to start a practice for himself', 'we know there       has been a presentation', 'we believe there has been a change from       a town hospital to a country practice', 'is it then stretching       our inference too far to say that the presentation was on the       occasion of the change', 'it certainly seems probable', 'now you will observe that he could not have been on the staff       of the hospital since only a man wellestablished in a london       practice could hold such a position and such a one would not       drift into the country', 'what was he then', 'if he was in the       hospital and yet not on the staff he could only have been a       housesurgeon or a housephysicianlittle more than a senior       student', 'and he left five years agothe date is on the stick', 'so       your grave middleaged family practitioner vanishes into thin       air my dear watson and there emerges a young fellow under       thirty amiable unambitious absentminded and the possessor of       a favourite dog which i should describe roughly as being larger       than a terrier and smaller than a mastiff', 'i laughed incredulously as sherlock holmes leaned back in his       settee and blew little wavering rings of smoke up to the ceiling', 'as to the latter part i have no means of checking you said i       but at least it is not difficult to find out a few particulars       about the mans age and professional career', 'from my small       medical shelf i took down the medical directory and turned up the       name', 'there were several mortimers but only one who could be our       visitor', 'i read his record aloud', 'mortimer james mrcs', '1882 grimpen dartmoor devon', 'housesurgeon from 1882 to 1884 at charing cross hospital', 'winner of the jackson prize for comparative pathology with         essay entitled is disease a reversion', 'corresponding member         of the swedish pathological society', 'author of some freaks of         atavism lancet  do we progress', 'journal of         psychology march medical officer for the parishes of         grimpen thorsley and high barrow', 'no mention of that local hunt watson said holmes with a       mischievous smile but a country doctor as you very astutely       observed', 'i think that i am fairly justified in my inferences', 'as       to the adjectives i said if i remember right amiable       unambitious and absentminded', 'it is my experience that it is       only an amiable man in this world who receives testimonials only       an unambitious one who abandons a london career for the country       and only an absentminded one who leaves his stick and not his       visitingcard after waiting an hour in your room', 'and the dog', 'has been in the habit of carrying this stick behind his master', 'being a heavy stick the dog has held it tightly by the middle       and the marks of his teeth are very plainly visible', 'the dogs       jaw as shown in the space between these marks is too broad in       my opinion for a terrier and not broad enough for a mastiff', 'it       may have beenyes by jove it is a curlyhaired spaniel', 'he had risen and paced the room as he spoke', 'now he halted in the       recess of the window', 'there was such a ring of conviction in his       voice that i glanced up in surprise']\n",
            "AFTER 2nd punc :\n",
            "['i the science of deduction  sherlock holmes took his bottle from the corner of the mantelpiece and his hypodermic syringe from its neat morocco case', 'with his long white nervous fingers he adjusted the delicate needle and rolled back his left shirtcuff', 'for some little time his eyes rested thoughtfully upon the sinewy forearm and wrist all dotted and scarred with innumerable puncturemarks', 'finally he thrust the sharp point home pressed down the tiny piston and sank back into the velvetlined armchair with a long sigh of satisfaction', 'three times a day for many months i had witnessed this performance but custom had not reconciled my mind to it', 'on the contrary from day to day i had become more irritable at the sight and my conscience swelled nightly within me at the thought that i had lacked the courage to protest', 'again and again i had registered a vow that i should deliver my soul upon the subject but there was that in the cool nonchalant air of my companion which made him the last man with whom one would care to take anything approaching to a liberty', 'his great powers his masterly manner and the experience which i had had of his many extraordinary qualities all made me diffident and backward in crossing him', 'yet upon that afternoon whether it was the beaune which i had taken with my lunch or the additional exasperation produced by the extreme deliberation of his manner i suddenly felt that i could hold out no longer', 'which is it today', 'i askedmorphine or cocaine', 'he raised his eyes languidly from the old blackletter volume which he had opened', 'it is cocaine he saida sevenpercent', 'solution', 'would you care to try it', 'no indeed i answered brusquely', 'my constitution has not got over the afghan campaign yet', 'i cannot afford to throw any extra strain upon it', 'he smiled at my vehemence', 'perhaps you are right watson he said', 'i suppose that its influence is physically a bad one', 'i find it however so transcendently stimulating and clarifying to the mind that its secondary action is a matter of small moment', 'but consider', 'i said earnestly', 'count the cost', 'your brain may as you say be roused and excited but it is a pathological and morbid process which involves increased tissuechange and may at last leave a permanent weakness', 'you know too what a black reaction comes upon you', 'surely the game is hardly worth the candle', 'why should you for a mere passing pleasure risk the loss of those great powers with which you have been endowed', 'remember that i speak not only as one comrade to another but as a medical man to one for whose constitution he is to some extent answerable', 'he did not seem offended', 'on the contrary he put his fingertips together and leaned his elbows on the arms of his chair like one who has a relish for conversation', 'my mind he said rebels at stagnation', 'give me problems give me work give me the most abstruse cryptogram or the most intricate analysis and i am in my own proper atmosphere', 'i can dispense then with artificial stimulants', 'but i abhor the dull routine of existence', 'i crave for mental exaltation', 'that is why i have chosen my own particular professionor rather created it for i am the only one in the world', 'the only unofficial detective', 'i said raising my eyebrows', 'the only unofficial consulting detective he answered', 'i am the last and highest court of appeal in detection', 'when gregson or lestrade or athelney jones are out of their depthswhich by the way is their normal statethe matter is laid before me', 'i examine the data as an expert and pronounce a specialists opinion', 'i claim no credit in such cases', 'my name figures in no newspaper', 'the work itself the pleasure of finding a field for my peculiar powers is my highest reward', 'but you have yourself had some experience of my methods of work in the jefferson hope case', 'yes indeed said i cordially', 'i was never so struck by anything in my life', 'i even embodied it in a small brochure with the somewhat fantastic title of a study in scarlet', 'he shook his head sadly', 'i glanced over it said he', 'honestly i cannot congratulate you upon it', 'detection is or ought to be an exact science and should be treated in the same cold and unemotional manner', 'you have attempted to tinge it with romanticism which produces much the same effect as if you worked a lovestory or an elopement into the fifth proposition of euclid', 'but the romance was there i remonstrated', 'i could not tamper with the facts', 'some facts should be suppressed or at least a just sense of proportion should be observed in treating them', 'the only point in the case which deserved mention was the curious analytical reasoning from effects to causes by which i succeeded in unraveling it', 'i was annoyed at this criticism of a work which had been specially designed to please him', 'i confess too that i was irritated by the egotism which seemed to demand that every line of my pamphlet should be devoted to his own special doings', 'more than once during the years that i had lived with him in baker street i had observed that a small vanity underlay my companions quiet and didactic manner', 'i made no remark however but sat nursing my wounded leg', 'i had a jezail bullet through it some time before and though it did not prevent me from walking it ached wearily at every change of the weather', 'my practice has extended recently to the continent said holmes after a while filling up his old brierroot pipe', 'i was consulted last week by françois le illard who as you probably know has come rather to the front lately in the french detective service', 'he has all the celtic power of quick intuition but he is deficient in the wide range of exact knowledge which is essential to the higher developments of his art', 'the case was concerned with a will and possessed some features of interest', 'i was able to refer him to two parallel cases the one at riga in 1857 and the other at st louis in 1871 which have suggested to him the true solution', 'here is the letter which i had this morning acknowledging my assistance', 'he tossed over as he spoke a crumpled sheet of foreign notepaper', 'i glanced my eyes down it catching a profusion of notes of admiration with stray magnifiques coupdemaîtres and toursdeforce all testifying to the ardent admiration of the frenchman', 'he speaks as a pupil to his master said i  oh he rates my assistance too highly said sherlock holmes lightly', 'he has considerable gifts himself', 'he possesses two out of the three qualities necessary for the ideal detective', 'he has the power of observation and that of deduction', 'he is only wanting in knowledge and that may come in time', 'he is now translating my small works into french', 'your works', 'oh didnt you know', 'he cried laughing', 'yes i have been guilty of several monographs', 'they are all upon technical subjects', 'here for example is one upon the distinction between the ashes of the arious tobaccoes', 'in it i enumerate a hundred and forty forms of cigar cigarette and pipetobacco with coloured plates illustrating the difference in the ash', 'it is a point which is continually turning up in criminal trials and which is sometimes of supreme importance as a clue', 'if you can say definitely for example that some murder has been done by a man who was smoking an indian lunkah it obviously narrows your field of search', 'to the trained eye there is as much difference between the black ash of a trichinopoly and the white fluff of birdseye as there is between a cabbage and a potato', 'you have an extraordinary genius for minutiæ i remarked', 'i appreciate their importance', 'here is my monograph upon the tracing of footsteps with some remarks upon the uses of plaster of paris as a preserver of impresses', 'here too is a curious little work upon the influence of a trade upon the form of the hand with lithotypes of the hands of slaters sailors corkcutters compositors weavers and diamondpolishers', 'that is a matter of great practical interest to the scientific detectiveespecially in cases of unclaimed bodies or in discovering the antecedents of criminals', 'but i weary you with my hobby', 'not at all i answered earnestly', 'it is of the greatest interest to me especially since i have had the opportunity of observing your practical application of it', 'but you spoke just now of observation and deduction', 'surely the one to some extent implies the other', 'why hardly he answered leaning back luxuriously in his armchair and sending up thick blue wreaths from his pipe']\n",
            "AFTER 2nd punc :\n",
            "['i', 'silver blaze        i am afraid watson that i shall have to go said holmes as we       sat down together to our breakfast one morning', 'go', 'where to', 'to dartmoor to kings pyland', 'i was not surprised', 'indeed my only wonder was that he had not       already been mixed up in this extraordinary case which was the       one topic of conversation through the length and breadth of       england', 'for a whole day my companion had rambled about the room       with his chin upon his chest and his brows knitted charging and       recharging his pipe with the strongest black tobacco and       absolutely deaf to any of my questions or remarks', 'fresh editions       of every paper had been sent up by our news agent only to be       glanced over and tossed down into a corner', 'yet silent as he       was i knew perfectly well what it was over which he was       brooding', 'there was but one problem before the public which could       challenge his powers of analysis and that was the singular       disappearance of the favourite for the wessex cup and the tragic       murder of its trainer', 'when therefore he suddenly announced his       intention of setting out for the scene of the drama it was only       what i had both expected and hoped for', 'i should be most happy to go down with you if i should not be in       the way said i', 'my dear watson you would confer a great favour upon me by       coming', 'and i think that your time will not be misspent for       there are points about the case which promise to make it an       absolutely unique one', 'we have i think just time to catch our       train at paddington and i will go further into the matter upon       our journey', 'you would oblige me by bringing with you your very       excellent fieldglass', 'and so it happened that an hour or so later i found myself in the       corner of a firstclass carriage flying along en route for       exeter while sherlock holmes with his sharp eager face framed       in his earflapped travellingcap dipped rapidly into the bundle       of fresh papers which he had procured at paddington', 'we had left       reading far behind us before he thrust the last one of them under       the seat and offered me his cigarcase', 'we are going well said he looking out the window and glancing       at his watch', 'our rate at present is fiftythree and a half       miles an hour', 'i have not observed the quartermile posts said i', 'nor have i', 'but the telegraph posts upon this line are sixty       yards apart and the calculation is a simple one', 'i presume that       you have looked into this matter of the murder of john straker       and the disappearance of silver blaze', 'i have seen what the telegraph and the chronicle have to       say', 'it is one of those cases where the art of the reasoner should be       used rather for the sifting of details than for the acquiring of       fresh evidence', 'the tragedy has been so uncommon so complete and       of such personal importance to so many people that we are       suffering from a plethora of surmise conjecture and hypothesis', 'the difficulty is to detach the framework of factof absolute       undeniable factfrom the embellishments of theorists and       reporters', 'then having established ourselves upon this sound       basis it is our duty to see what inferences may be drawn and       what are the special points upon which the whole mystery turns', 'on tuesday evening i received telegrams from both colonel ross       the owner of the horse and from inspector gregory who is       looking after the case inviting my cooperation', 'tuesday evening', 'i exclaimed', 'and this is thursday morning', 'why didnt you go down yesterday', 'because i made a blunder my dear watsonwhich is i am afraid       a more common occurrence than any one would think who only knew       me through your memoirs', 'the fact is that i could not believe it       possible that the most remarkable horse in england could long       remain concealed especially in so sparsely inhabited a place as       the north of dartmoor', 'from hour to hour yesterday i expected to       hear that he had been found and that his abductor was the       murderer of john straker', 'when however another morning had       come and i found that beyond the arrest of young fitzroy simpson       nothing had been done i felt that it was time for me to take       action', 'yet in some ways i feel that yesterday has not been       wasted', 'you have formed a theory then', 'at least i have got a grip of the essential facts of the case', 'i       shall enumerate them to you for nothing clears up a case so much       as stating it to another person and i can hardly expect your       cooperation if i do not show you the position from which we       start', 'i lay back against the cushions puffing at my cigar while       holmes leaning forward with his long thin forefinger checking       off the points upon the palm of his left hand gave me a sketch       of the events which had led to our journey', 'silver blaze said he is from the isonomy stock and holds as       brilliant a record as his famous ancestor', 'he is now in his fifth       year and has brought in turn each of the prizes of the turf to       colonel ross his fortunate owner', 'up to the time of the       catastrophe he was the first favourite for the wessex cup the       betting being three to one on him', 'he has always however been a       prime favourite with the racing public and has never yet       disappointed them so that even at those odds enormous sums of       money have been laid upon him', 'it is obvious therefore that       there were many people who had the strongest interest in       preventing silver blaze from being there at the fall of the flag       next tuesday', 'the fact was of course appreciated at kings pyland where the       colonels trainingstable is situated', 'every precaution was taken       to guard the favourite', 'the trainer john straker is a retired       jockey who rode in colonel rosss colours before he became too       heavy for the weighingchair', 'he has served the colonel for five       years as jockey and for seven as trainer and has always shown       himself to be a zealous and honest servant', 'under him were three       lads for the establishment was a small one containing only four       horses in all', 'one of these lads sat up each night in the stable       while the others slept in the loft', 'all three bore excellent       characters', 'john straker who is a married man lived in a small       villa about two hundred yards from the stables', 'he has no       children keeps one maidservant and is comfortably off', 'the       country round is very lonely but about half a mile to the north       there is a small cluster of villas which have been built by a       tavistock contractor for the use of invalids and others who may       wish to enjoy the pure dartmoor air', 'tavistock itself lies two       miles to the west while across the moor also about two miles       distant is the larger training establishment of mapleton which       belongs to lord backwater and is managed by silas brown', 'in       every other direction the moor is a complete wilderness       inhabited only by a few roaming gypsies', 'such was the general       situation last monday night when the catastrophe occurred', 'on that evening the horses had been exercised and watered as       usual and the stables were locked up at nine oclock', 'two of the       lads walked up to the trainers house where they had supper in       the kitchen while the third ned hunter remained on guard', 'at a       few minutes after nine the maid edith baxter carried down to       the stables his supper which consisted of a dish of curried       mutton', 'she took no liquid as there was a watertap in the       stables and it was the rule that the lad on duty should drink       nothing else', 'the maid carried a lantern with her as it was very       dark and the path ran across the open moor', 'edith baxter was within thirty yards of the stables when a man       appeared out of the darkness and called to her to stop', 'as he       stepped into the circle of yellow light thrown by the lantern she       saw that he was a person of gentlemanly bearing dressed in a       grey suit of tweeds with a cloth cap', 'he wore gaiters and       carried a heavy stick with a knob to it', 'she was most impressed       however by the extreme pallor of his face and by the nervousness       of his manner', 'his age she thought would be rather over thirty       than under it', 'can you tell me where i am', 'he asked', 'i had almost made up my       mind to sleep on the moor when i saw the light of your lantern', 'you are close to the kings pyland trainingstables said she', 'oh indeed', 'what a stroke of luck', 'he cried', 'i understand       that a stableboy sleeps there alone every night', 'perhaps that is       his supper which you are carrying to him', 'now i am sure that you       would not be too proud to earn the price of a new dress would       you', 'he took a piece of white paper folded up out of his       waistcoat pocket', 'see that the boy has this tonight and you       shall have the prettiest frock that money can buy', 'she was frightened by the earnestness of his manner and ran       past him to the window through which she was accustomed to hand       the meals', 'it was already opened and hunter was seated at the       small table inside', 'she had begun to tell him of what had       happened when the stranger came up again', 'goodevening said he looking through the window', 'i wanted       to have a word with you', 'the girl has sworn that as he spoke she       noticed the corner of the little paper packet protruding from his       closed hand', 'what business have you here', 'asked the lad', 'its business that may put something into your pocket said       the other', 'youve two horses in for the wessex cupsilver blaze       and bayard', 'let me have the straight tip and you wont be a       loser', 'is it a fact that at the weights bayard could give the       other a hundred yards in five furlongs and that the stable have       put their money on him', 'so youre one of those damned touts', 'cried the lad', 'ill       show you how we serve them in kings pyland', 'he sprang up and       rushed across the stable to unloose the dog']\n",
            "AFTER 2nd punc :\n",
            "['the adenture of the empty house        it was in the spring of the year 1894 that all london was       interested and the fashionable world dismayed by the murder of       the honourable ronald adair under most unusual and inexplicable       circumstances', 'the public has already learned those particulars       of the crime which came out in the police investigation but a       good deal was suppressed upon that occasion since the case for       the prosecution was so overwhelmingly strong that it was not       necessary to bring forward all the facts', 'only now at the end of       nearly ten years am i allowed to supply those missing links       which make up the whole of that remarkable chain', 'the crime was       of interest in itself but that interest was as nothing to me       compared to the inconceivable sequel which afforded me the       greatest shock and surprise of any event in my adventurous life', 'even now after this long interval i find myself thrilling as i       think of it and feeling once more that sudden flood of joy       amazement and incredulity which utterly submerged my mind', 'let       me say to that public which has shown some interest in those       glimpses which i have occasionally given them of the thoughts and       actions of a very remarkable man that they are not to blame me       if i have not shared my knowledge with them for i should have       considered it my first duty to do so had i not been barred by a       positive prohibition from his own lips which was only withdrawn       upon the third of last month', 'it can be imagined that my close intimacy with sherlock holmes       had interested me deeply in crime and that after his       disappearance i never failed to read with care the various       problems which came before the public', 'and i even attempted more       than once for my own private satisfaction to employ his methods       in their solution though with indifferent success', 'there was       none however which appealed to me like this tragedy of ronald       adair', 'as i read the evidence at the inquest which led up to a       verdict of willful murder against some person or persons unknown       i realized more clearly than i had ever done the loss which the       community had sustained by the death of sherlock holmes', 'there       were points about this strange business which would i was sure       have specially appealed to him and the efforts of the police       would have been supplemented or more probably anticipated by       the trained observation and the alert mind of the first criminal       agent in europe', 'all day as i drove upon my round i turned over       the case in my mind and found no explanation which appeared to me       to be adequate', 'at the risk of telling a twicetold tale i will       recapitulate the facts as they were known to the public at the       conclusion of the inquest', 'the honourable ronald adair was the second son of the earl of       maynooth at that time governor of one of the australian       colonies', 'adairs mother had returned from australia to undergo       the operation for cataract and she her son ronald and her       daughter hilda were living together at 427 park lane', 'the youth       moved in the best societyhad so far as was known no enemies       and no particular vices', 'he had been engaged to miss edith       woodley of carstairs but the engagement had been broken off by       mutual consent some months before and there was no sign that it       had left any very profound feeling behind it', 'for the rest the       mans life moved in a narrow and conventional circle for his       habits were quiet and his nature unemotional', 'yet it was upon       this easygoing young aristocrat that death came in most strange       and unexpected form between the hours of ten and eleventwenty       on the night of march 30        ronald adair was fond of cardsplaying continually but never for       such stakes as would hurt him', 'he was a member of the baldwin       the cavendish and the bagatelle card clubs', 'it was shown that       after dinner on the day of his death he had played a rubber of       whist at the latter club', 'he had also played there in the       afternoon', 'the evidence of those who had played with himmr', 'murray sir john hardy and colonel moranshowed that the game       was whist and that there was a fairly equal fall of the cards', 'adair might have lost five pounds but not more', 'his fortune was       a considerable one and such a loss could not in any way affect       him', 'he had played nearly every day at one club or other but he       was a cautious player and usually rose a winner', 'it came out in       evidence that in partnership with colonel moran he had actually       won as much as four hundred and twenty pounds in a sitting some       weeks before from godfrey milner and lord balmoral', 'so much for       his recent history as it came out at the inquest', 'on the evening of the crime he returned from the club exactly at       ten', 'his mother and sister were out spending the evening with a       relation', 'the servant deposed that she heard him enter the front       room on the second floor generally used as his sittingroom', 'she       had lit a fire there and as it smoked she had opened the window', 'no sound was heard from the room until eleventwenty the hour of       the return of lady maynooth and her daughter', 'desiring to say       goodnight she attempted to enter her sons room', 'the door was       locked on the inside and no answer could be got to their cries       and knocking', 'help was obtained and the door forced', 'the       unfortunate young man was found lying near the table', 'his head       had been horribly mutilated by an expanding revolver bullet but       no weapon of any sort was to be found in the room', 'on the table       lay two banknotes for ten pounds each and seventeen pounds ten in       silver and gold the money arranged in little piles of varying       amount', 'there were some figures also upon a sheet of paper with       the names of some club friends opposite to them from which it       was conjectured that before his death he was endeavouring to make       out his losses or winnings at cards', 'a minute examination of the circumstances served only to make the       case more complex', 'in the first place no reason could be given       why the young man should have fastened the door upon the inside', 'there was the possibility that the murderer had done this and       had afterwards escaped by the window', 'the drop was at least       twenty feet however and a bed of crocuses in full bloom lay       beneath', 'neither the flowers nor the earth showed any sign of       having been disturbed nor were there any marks upon the narrow       strip of grass which separated the house from the road', 'apparently therefore it was the young man himself who had       fastened the door', 'but how did he come by his death', 'no one could       have climbed up to the window without leaving traces', 'suppose a       man had fired through the window he would indeed be a remarkable       shot who could with a revolver inflict so deadly a wound', 'again       park lane is a frequented thoroughfare there is a cab stand       within a hundred yards of the house', 'no one had heard a shot', 'and       yet there was the dead man and there the revolver bullet which       had mushroomed out as softnosed bullets will and so inflicted       a wound which must have caused instantaneous death', 'such were the       circumstances of the park lane mystery which were further       complicated by entire absence of motive since as i have said       young adair was not known to have any enemy and no attempt had       been made to remove the money or valuables in the room', 'all day i turned these facts over in my mind endeavouring to hit       upon some theory which could reconcile them all and to find that       line of least resistance which my poor friend had declared to be       the startingpoint of every investigation', 'i confess that i made       little progress', 'in the evening i strolled across the park and       found myself about six oclock at the oxford street end of park       lane', 'a group of loafers upon the pavements all staring up at a       particular window directed me to the house which i had come to       see', 'a tall thin man with coloured glasses whom i strongly       suspected of being a plainclothes detective was pointing out       some theory of his own while the others crowded round to listen       to what he said', 'i got as near him as i could but his       observations seemed to me to be absurd so i withdrew again in       some disgust', 'as i did so i struck against an elderly deformed       man who had been behind me and i knocked down several books       which he was carrying', 'i remember that as i picked them up i       observed the title of one of them the origin of tree worship       and it struck me that the fellow must be some poor bibliophile       who either as a trade or as a hobby was a collector of obscure       volumes', 'i endeavoured to apologize for the accident but it was       evident that these books which i had so unfortunately maltreated       were very precious objects in the eyes of their owner', 'with a       snarl of contempt he turned upon his heel and i saw his curved       back and white sidewhiskers disappear among the throng', 'my observations of no', '427 park lane did little to clear up the       problem in which i was interested', 'the house was separated from       the street by a low wall and railing the whole not more than       five feet high', 'it was perfectly easy therefore for anyone to       get into the garden but the window was entirely inaccessible       since there was no waterpipe or anything which could help the       most active man to climb it', 'more puzzled than ever i retraced       my steps to kensington', 'i had not been in my study five minutes       when the maid entered to say that a person desired to see me', 'to       my astonishment it was none other than my strange old book       collector his sharp wizened face peering out from a frame of       white hair and his precious volumes a dozen of them at least       wedged under his right arm', 'youre surprised to see me sir said he in a strange       croaking voice', 'i acknowledged that i was', 'well ive a conscience sir and when i chanced to see you go       into this house as i came hobbling after you i thought to       myself ill just step in and see that kind gentleman and tell       him that if i was a bit gruff in my manner there was not any harm       meant and that i am much obliged to him for picking up my       books', 'you make too much of a trifle said i', 'may i ask how you knew       who i was', 'well sir if it isnt too great a liberty i am a neighbour of       yours for youll find my little bookshop at the corner of church       street and very happy to see you i am sure', 'maybe you collect       yourself sir', 'heres british birds and catullus and the       holy wara bargain every one of them', 'with five volumes you       could just fill that gap on that second shelf', 'it looks untidy       does it not sir', 'i moved my head to look at the cabinet behind me', 'when i turned       again sherlock holmes was standing smiling at me across my study       table', 'i rose to my feet stared at him for some seconds in utter       amazement and then it appears that i must have fainted for the       first and the last time in my life', 'certainly a grey mist swirled       before my eyes and when it cleared i found my collarends undone       and the tingling aftertaste of brandy upon my lips', 'holmes was       bending over my chair his flask in his hand', 'my dear watson said the wellremembered voice i owe you a       thousand apologies', 'i had no idea that you would be so affected', 'i gripped him by the arms', 'holmes', 'i cried', 'is it really you', 'can it indeed be that you       are alive', 'is it possible that you succeeded in climbing out of       that awful abyss', 'wait a moment said he', 'are you sure that you are really fit       to discuss things', 'i have given you a serious shock by my       unnecessarily dramatic reappearance', 'i am all right but indeed holmes i can hardly believe my       eyes', 'good heavens', 'to think that youyou of all menshould be       standing in my study']\n",
            "AFTER 2nd punc :\n",
            "['the adventure of wisteria lodge    the singular experience of mr john scott eccles  the tiger of san pedro    the singular experience of mr john scott eccles  i find it recorded in my notebook that it was a bleak and windy day towards the end of march in the year holmes had received a telegram while we sat at our lunch and he had scribbled a reply', 'he made no remark but the matter remained in his thoughts for he stood in front of the fire afterwards with a thoughtful face smoking his pipe and casting an occasional glance at the message', 'suddenly he turned upon me with a mischievous twinkle in his eyes', 'i suppose watson we must look upon you as a man of letters said he', 'how do you define the word grotesque', 'strangeremarkable i suggested', 'he shook his head at my definition', 'there is surely something more than that said he some underlying suggestion of the tragic and the terrible', 'if you cast your mind back to some of those narratives with which you have afflicted a longsuffering public you will recognise how often the grotesque has deepened into the criminal', 'think of that little affair of the redheaded men', 'that was grotesque enough in the outset and yet it ended in a desperate attempt at robbery', 'or again there was that most grotesque affair of the five orange pips which led straight to a murderous conspiracy', 'the word puts me on the alert', 'have you it there', 'i asked', 'he read the telegram aloud', 'have just had most incredible and grotesque experience', 'may i consult you', 'scott eccles post office charing cross', 'man or woman', 'i asked', 'oh man of course', 'no woman would ever send a replypaid telegram', 'she would have come', 'will you see him', 'my dear watson you know how bored i have been since we locked up colonel carruthers', 'my mind is like a racing engine tearing itself to pieces because it is not connected up with the work for which it was built', 'life is commonplace the papers are sterile audacity and romance seem to have passed forever from the criminal world', 'can you ask me then whether i am ready to look into any new problem however trivial it may prove', 'but here unless i am mistaken is our client', 'a measured step was heard upon the stairs and a moment later a stout tall greywhiskered and solemnly respectable person was ushered into the room', 'his life history was written in his heavy features and pompous manner', 'from his spats to his goldrimmed spectacles he was a conservative a churchman a good citizen orthodox and conventional to the last degree', 'but some amazing experience had disturbed his native composure and left its traces in his bristling hair his flushed angry cheeks and his flurried excited manner', 'he plunged instantly into his business', 'i have had a most singular and unpleasant experience mr holmes said he', 'never in my life have i been placed in such a situation', 'it is most impropermost outrageous', 'i must insist upon some explanation', 'he swelled and puffed in his anger', 'pray sit down mr scott eccles said holmes in a soothing voice', 'may i ask in the first place why you came to me at all', 'well sir it did not appear to be a matter which concerned the police and yet when you have heard the facts you must admit that i could not leave it where it was', 'private detectives are a class with whom i have absolutely no sympathy but none the less having heard your name  quite so', 'but in the second place why did you not come at once', 'holmes glanced at his watch', 'it is a quarterpast two he said', 'your telegram was dispatched about one', 'but no one can glance at your toilet and attire without seeing that your disturbance dates from the moment of your waking', 'our client smoothed down his unbrushed hair and felt his unshaven chin', 'you are right mr holmes', 'i never gave a thought to my toilet', 'i was only too glad to get out of such a house', 'but i have been running round making inquiries before i came to you', 'i went to the house agents you know and they said that mr garcias rent was paid up all right and that everything was in order at wisteria lodge', 'come come sir said holmes laughing', 'you are like my friend dr watson who has a bad habit of telling his stories wrong end foremost', 'please arrange your thoughts and let me know in their due sequence exactly what those events are which have sent you out unbrushed and unkempt with dress boots and waistcoat buttoned awry in search of advice and assistance', 'our client looked down with a rueful face at his own unconventional appearance', 'im sure it must look very bad mr holmes and i am not aware that in my whole life such a thing has ever happened before', 'but i will tell you the whole queer business and when i have done so you will admit i am sure that there has been enough to excuse me', 'but his narrative was nipped in the bud', 'there was a bustle outside and mrs hudson opened the door to usher in two robust and officiallooking individuals one of whom was well known to us as inspector gregson of scotland yard an energetic gallant and within his limitations a capable officer', 'he shook hands with holmes and introduced his comrade as inspector baynes of the surrey constabulary', 'we are hunting together mr holmes and our trail lay in this direction', 'he turned his bulldog eyes upon our visitor', 'are you mr john scott eccles of popham house lee', 'i am', 'we have been following you about all the morning', 'you traced him through the telegram no doubt said holmes', 'exactly mr holmes', 'we picked up the scent at charing cross postoffice and came on here', 'but why do you follow me', 'what do you want', 'we wish a statement mr scott eccles as to the events which led up to the death last night of mr aloysius garcia of wisteria lodge near esher', 'our client had sat up with staring eyes and every tinge of colour struck from his astonished face', 'dead', 'did you say he was dead', 'yes sir he is dead', 'but how', 'an accident', 'murder if ever there was one upon earth', 'good god', 'this is awful', 'you dont meanyou dont mean that i am suspected', 'a letter of yours was found in the dead mans pocket and we know by it that you had planned to pass last night at his house', 'so i did', 'oh you did did you', 'out came the official notebook', 'wait a bit gregson said sherlock holmes', 'all you desire is a plain statement is it not', 'and it is my duty to warn mr scott eccles that it may be used against him', 'mr eccles was going to tell us about it when you entered the room', 'i think watson a brandy and soda would do him no harm', 'now sir i suggest that you take no notice of this addition to your audience and that you proceed with your narrative exactly as you would have done had you never been interrupted', 'our visitor had gulped off the brandy and the colour had returned to his face', 'with a dubious glance at the inspectors notebook he plunged at once into his extraordinary statement', 'i am a bachelor said he and being of a sociable turn i cultivate a large number of friends', 'among these are the family of a retired brewer called melville living at abermarle mansion kensington', 'it was at his table that i met some weeks ago a young fellow named garcia']\n"
          ],
          "name": "stdout"
        }
      ]
    },
    {
      "cell_type": "code",
      "metadata": {
        "id": "ac8ujU-bGE1J",
        "colab_type": "code",
        "colab": {
          "base_uri": "https://localhost:8080/",
          "height": 88
        },
        "outputId": "4b197c0d-e9c5-4c81-94fa-0409e3484677"
      },
      "source": [
        "# tokenize words, create word_index\n",
        "vocab_size = 500\n",
        "print(f\"vocab_size: {vocab_size}\")\n",
        "tokenizer = Tokenizer(num_words=vocab_size,oov_token='OOV')\n",
        "for story in story_list_3:\n",
        "    tokenizer.fit_on_texts(story)\n",
        "total_words = len(tokenizer.word_index) + 1\n",
        "print(f\"total_words: {total_words}\")\n",
        "#print(f\"tokenized text: {tokenizer.get_config()}\")\n",
        "\n",
        "# convert to token sequences based on word_index\n",
        "seq_list = []\n",
        "for story in story_list_3:\n",
        "    seq = tokenizer.texts_to_sequences(story)\n",
        "    seq_list.append(seq)\n",
        "print(f\"sequence list:  {seq_list[0][:10]}\")"
      ],
      "execution_count": 8,
      "outputs": [
        {
          "output_type": "stream",
          "text": [
            "vocab_size: 500\n",
            "total_words: 19899\n",
            "sequence list:  [[7, 1, 9, 1, 5], [6, 170, 35, 50, 15, 239, 2, 207], [5, 17, 1, 139, 31, 1, 44, 245, 90, 98, 187], [9, 14, 128, 50, 1, 3, 1, 2, 220, 4, 44, 1], [10, 12, 27, 8, 11, 486, 90, 1, 1, 6, 1, 22, 1, 1], [41, 1, 3, 8, 38, 1, 42, 1, 6, 14, 1, 1, 25, 1, 1, 198], [11, 12, 5, 149, 10, 2, 135, 1, 1, 3, 1, 1, 8, 2, 434, 60, 184, 25, 20, 7, 1, 11, 48, 17, 1, 164, 9, 7, 1, 482], [11, 108, 353, 4, 2, 1, 1, 334, 19, 7, 1, 3, 7, 1], [67, 42, 1, 336, 22, 2, 1, 22, 1, 2, 1, 33, 1, 1, 3, 1], [25, 22, 2, 1, 1, 6, 1, 119, 1, 68, 14, 113, 1, 3, 1, 1, 1, 12, 6, 1, 7, 1, 1, 23, 111, 1, 7, 210, 36, 41, 14, 1, 1]]\n"
          ],
          "name": "stdout"
        }
      ]
    },
    {
      "cell_type": "code",
      "metadata": {
        "id": "ypiiPm1zTePP",
        "colab_type": "code",
        "colab": {
          "base_uri": "https://localhost:8080/",
          "height": 122
        },
        "outputId": "f5b22e9c-8500-455c-c936-3b5e5d696848"
      },
      "source": [
        "# create n-grams of increasing length from each sequence in corpus\n",
        "n_gram_list = []\n",
        "for story in seq_list:\n",
        "    for sentence in story:\n",
        "        for i in range(1, len(sentence)):\n",
        "            n_gram_seq = sentence[:i+1]\n",
        "            n_gram_list.append(n_gram_seq)\n",
        "print(f\"n-gram sequences:\\n{n_gram_list[:10]}\")\n",
        "print(len(n_gram_list))\n",
        "\n",
        "# pad from left, convert to numpy array\n",
        "max_seq_len = max([len(x) for x in n_gram_list])\n",
        "print(f\"max seq len: {max_seq_len}\")\n",
        "pad_seq_list = np.array(pad_sequences(n_gram_list, maxlen=max_seq_len, padding='pre'))\n",
        "print(f\"pad_seq_list: {pad_seq_list.shape}\")"
      ],
      "execution_count": 11,
      "outputs": [
        {
          "output_type": "stream",
          "text": [
            "n-gram sequences:\n",
            "[[7, 1], [7, 1, 9], [7, 1, 9, 1], [7, 1, 9, 1, 5], [6, 170], [6, 170, 35], [6, 170, 35, 50], [6, 170, 35, 50, 15], [6, 170, 35, 50, 15, 239], [6, 170, 35, 50, 15, 239, 2]]\n",
            "481421\n",
            "max seq len: 107\n",
            "pad_seq_list: (481421, 107)\n"
          ],
          "name": "stdout"
        }
      ]
    },
    {
      "cell_type": "code",
      "metadata": {
        "id": "5Ll4eedEK8bH",
        "colab_type": "code",
        "colab": {
          "base_uri": "https://localhost:8080/",
          "height": 119
        },
        "outputId": "005330cc-6e04-426b-dc7b-66558fabc50d"
      },
      "source": [
        "# create feature and label arrays\n",
        "features= pad_seq_list[:,:-1]\n",
        "print(f\"features: {features.shape}\")\n",
        "labels_seq = np.expand_dims(pad_seq_list[:,-1], axis=1)\n",
        "print(f\"labels: {labels_seq.shape}\")\n",
        "labels_hot = ku.to_categorical(labels_seq, num_classes=vocab_size)     # one hot encoding\n",
        "print(f\"labels_hot:{labels_hot.shape}\\n{labels_hot[:3]}\")"
      ],
      "execution_count": 15,
      "outputs": [
        {
          "output_type": "stream",
          "text": [
            "features: (481421, 106)\n",
            "labels: (481421, 1)\n",
            "labels_hot:(481421, 500)\n",
            "[[0. 1. 0. ... 0. 0. 0.]\n",
            " [0. 0. 0. ... 0. 0. 0.]\n",
            " [0. 1. 0. ... 0. 0. 0.]]\n"
          ],
          "name": "stdout"
        }
      ]
    },
    {
      "cell_type": "code",
      "metadata": {
        "id": "IIHiOZTFtNXK",
        "colab_type": "code",
        "colab": {
          "base_uri": "https://localhost:8080/",
          "height": 51
        },
        "outputId": "2a070953-40bf-4307-ae7b-fd6cd27709b5"
      },
      "source": [
        "#### CALLBACKS ####\n",
        "\n",
        "# model save checkpoint callback\n",
        "sav_cb = ModelCheckpoint(filepath=MODEL_DIR,\n",
        "                          save_weights_only=True,\n",
        "                          verbose=1,\n",
        "                          save_freq='epoch')\n",
        "\n",
        "print(\"ModelCheckpoint callback defined\")\n",
        "\n",
        "# save weights manually (or sue callback in training loop to save regulary)\n",
        "#model.save_weights('./checkpoints/my_checkpoint')\n",
        "\n",
        "# Tensorboard callback\n",
        "tbd_cb = TensorBoard(log_dir=LOG_DIR, histogram_freq=0)\n",
        "\n",
        "print(\"Tensorboard callback defined\")"
      ],
      "execution_count": 16,
      "outputs": [
        {
          "output_type": "stream",
          "text": [
            "ModelCheckpoint callback defined\n",
            "Tensorboard callback defined\n"
          ],
          "name": "stdout"
        }
      ]
    },
    {
      "cell_type": "code",
      "metadata": {
        "id": "boyAaprsrcnc",
        "colab_type": "code",
        "colab": {
          "base_uri": "https://localhost:8080/",
          "height": 374
        },
        "outputId": "6fecd1bd-ae33-4e6e-a877-11b7e6a8ce22"
      },
      "source": [
        "#### MODEL ####\n",
        "\n",
        "# function to create  model\n",
        "def create_model(embed_size, seq_length, words, lstm_units1, lstm_units2):\n",
        "    model = Sequential([\n",
        "        Embedding(words, embed_size, input_length=seq_length),                         # [batch, seq_length, embed_size]\n",
        "        Bidirectional(LSTM(lstm_units1, return_sequences = True)),                     # [batch, seq_length, 2*lstm_units]\n",
        "        Dropout(0.2),                                                                  # [batch, same as prev, same as prev]\n",
        "        LSTM(lstm_units2),                                                             # [batch, lstm_units]\n",
        "        Dense(words/4, activation='relu', kernel_regularizer=regularizers.l2(0.01)),   # [batch, dense_units]\n",
        "        Dense(words, activation='softmax')                                             # [batch, dense_units]\n",
        "    ])\n",
        "    model.summary()\n",
        "    model.compile(loss='categorical_crossentropy',\n",
        "                    optimizer='Adam',\n",
        "                    metrics=['accuracy'])\n",
        "    print(\"model created\")\n",
        "    return model\n",
        "\n",
        "# define model\n",
        "embed_size = 10\n",
        "bi_lstm_units = 10\n",
        "lstm_units = 10\n",
        "sh_model = create_model(embed_size, max_seq_len-1, vocab_size, bi_lstm_units, lstm_units)"
      ],
      "execution_count": 17,
      "outputs": [
        {
          "output_type": "stream",
          "text": [
            "Model: \"sequential\"\n",
            "_________________________________________________________________\n",
            "Layer (type)                 Output Shape              Param #   \n",
            "=================================================================\n",
            "embedding (Embedding)        (None, 106, 10)           5000      \n",
            "_________________________________________________________________\n",
            "bidirectional (Bidirectional (None, 106, 20)           1680      \n",
            "_________________________________________________________________\n",
            "dropout (Dropout)            (None, 106, 20)           0         \n",
            "_________________________________________________________________\n",
            "lstm_1 (LSTM)                (None, 10)                1240      \n",
            "_________________________________________________________________\n",
            "dense (Dense)                (None, 125)               1375      \n",
            "_________________________________________________________________\n",
            "dense_1 (Dense)              (None, 500)               63000     \n",
            "=================================================================\n",
            "Total params: 72,295\n",
            "Trainable params: 72,295\n",
            "Non-trainable params: 0\n",
            "_________________________________________________________________\n",
            "model created\n"
          ],
          "name": "stdout"
        }
      ]
    },
    {
      "cell_type": "code",
      "metadata": {
        "id": "w7ndbSpi1tQ2",
        "colab_type": "code",
        "colab": {
          "base_uri": "https://localhost:8080/",
          "height": 71
        },
        "outputId": "aa952982-e4d3-41d4-ed28-95f0b2fdcfc0"
      },
      "source": [
        "# fit model\n",
        "sh_model_hist = sh_model.fit(features, labels_hot, epochs=2, verbose=2, callbacks=[tbd_cb, sav_cb])"
      ],
      "execution_count": null,
      "outputs": [
        {
          "output_type": "stream",
          "text": [
            "Epoch 1/2\n",
            "WARNING:tensorflow:Callbacks method `on_train_batch_end` is slow compared to the batch time (batch time: 0.0754s vs `on_train_batch_end` time: 0.1271s). Check your callbacks.\n"
          ],
          "name": "stdout"
        }
      ]
    },
    {
      "cell_type": "code",
      "metadata": {
        "id": "N-OkoxxkIPuX",
        "colab_type": "code",
        "colab": {}
      },
      "source": [
        "# Load the TensorBoard notebook extension\n",
        "%load_ext tensorboard\n",
        "\n",
        "%tensorboard --logdir logs/fit\n"
      ],
      "execution_count": null,
      "outputs": []
    },
    {
      "cell_type": "code",
      "metadata": {
        "id": "OzjdtGztyIpo",
        "colab_type": "code",
        "colab": {
          "base_uri": "https://localhost:8080/",
          "height": 545
        },
        "outputId": "4455cf1a-c677-4994-c76d-d63bf929b40f"
      },
      "source": [
        "# plot learning results\n",
        "import matplotlib.pyplot as plt\n",
        "acc = sh_model_hist.history['accuracy']\n",
        "loss = sh_model_hist.history['loss']\n",
        "epochs = range(len(acc))\n",
        "\n",
        "plt.plot(epochs, acc, 'b', label='Training accuracy')\n",
        "plt.title('Training accuracy')\n",
        "plt.figure()\n",
        "plt.plot(epochs, loss, 'b', label='Training Loss')\n",
        "plt.title('Training loss')\n",
        "plt.legend()\n",
        "plt.show()"
      ],
      "execution_count": null,
      "outputs": [
        {
          "output_type": "display_data",
          "data": {
            "image/png": "[encoded data removed]",
            "text/plain": [
              "<Figure size 432x288 with 1 Axes>"
            ]
          },
          "metadata": {
            "tags": [],
            "needs_background": "light"
          }
        },
        {
          "output_type": "display_data",
          "data": {
            "image/png": "[encoded data removed]",
            "text/plain": [
              "<Figure size 432x288 with 1 Axes>"
            ]
          },
          "metadata": {
            "tags": [],
            "needs_background": "light"
          }
        }
      ]
    },
    {
      "cell_type": "code",
      "metadata": {
        "id": "zyey5fWIxWZ1",
        "colab_type": "code",
        "colab": {
          "base_uri": "https://localhost:8080/",
          "height": 51
        },
        "outputId": "4bbbc015-5447-4c0e-92d2-23f2726d9770"
      },
      "source": [
        "# restore saved model \n",
        "\n",
        "# confirm weights file saved\n",
        "print(os.listdir(checkpoint_dir))\n",
        "\n",
        "# Create a basic model instance\n",
        "restored_sh_model = create_model(embedding_size, max_seq_len-1, total_words)\n",
        "\n",
        "# Loads the saved model weights\n",
        "restored_sh_model.load_weights(checkpoint_path)\n",
        "\n",
        "# Re-evaluate the model\n",
        "#loss,acc = restored_sh_model.evaluate(test_images,  test_labels, verbose=2)\n",
        "#print(\"Restored model, accuracy: {:5.2f}%\".format(100*acc))"
      ],
      "execution_count": null,
      "outputs": [
        {
          "output_type": "stream",
          "text": [
            "['sh_short.txt', 'cp.ckpt.data-00000-of-00001', 'cp.ckpt.index', 'checkpoint']\n"
          ],
          "name": "stdout"
        },
        {
          "output_type": "execute_result",
          "data": {
            "text/plain": [
              "<tensorflow.python.training.tracking.util.CheckpointLoadStatus at 0x7fc466d32128>"
            ]
          },
          "metadata": {
            "tags": []
          },
          "execution_count": 41
        }
      ]
    },
    {
      "cell_type": "code",
      "metadata": {
        "id": "Cc6mX0Iow9Ju",
        "colab_type": "code",
        "colab": {
          "base_uri": "https://localhost:8080/",
          "height": 34
        },
        "outputId": "6cb20274-b237-4831-c018-61b808079424"
      },
      "source": [
        "# use model to make a prediction\n",
        "seed_text = \"hello watson\"\n",
        "next_words = 20\n",
        "\n",
        "for _ in range(next_words):\n",
        "    token_list = tokenizer.texts_to_sequences([seed_text])[0]\n",
        "    token_list = pad_sequences([token_list], maxlen=max_seq_len - 1, padding='pre')\n",
        "    predicted = restored_sh_model.predict_classes(token_list, verbose=0)\n",
        "    output_word = \"\"\n",
        "    for word, index in tokenizer.word_index.items():\n",
        "        if index == predicted:\n",
        "            output_word = word\n",
        "            break\n",
        "    seed_text += \" \" + output_word\n",
        "print(seed_text)"
      ],
      "execution_count": null,
      "outputs": [
        {
          "output_type": "stream",
          "text": [
            "hello watson as i am in the photograph he said he i had been unlikely it lead things by a room with\n"
          ],
          "name": "stdout"
        }
      ]
    },
    {
      "cell_type": "code",
      "metadata": {
        "id": "okbeuEN_K0tu",
        "colab_type": "code",
        "colab": {}
      },
      "source": [
        ""
      ],
      "execution_count": null,
      "outputs": []
    }
  ]
}