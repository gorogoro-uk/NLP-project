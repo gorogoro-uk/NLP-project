{
  "nbformat": 4,
  "nbformat_minor": 0,
  "metadata": {
    "colab": {
      "name": "Sherlock_1.ipynb",
      "provenance": [],
      "collapsed_sections": [],
      "authorship_tag": "ABX9TyNMY9z7vkKA2sdGYsLjcmOc",
      "include_colab_link": true
    },
    "kernelspec": {
      "name": "python3",
      "display_name": "Python 3"
    }
  },
  "cells": [
    {
      "cell_type": "markdown",
      "metadata": {
        "id": "view-in-github",
        "colab_type": "text"
      },
      "source": [
        "<a href=\"https://colab.research.google.com/github/gorogoro-uk/NLP-project/blob/master/Sherlock_1.ipynb\" target=\"_parent\"><img src=\"https://colab.research.google.com/assets/colab-badge.svg\" alt=\"Open In Colab\"/></a>"
      ]
    },
    {
      "cell_type": "markdown",
      "metadata": {
        "id": "sEVAtEm0M3Vb",
        "colab_type": "text"
      },
      "source": [
        "# Sherlock Holmes Text prediction project"
      ]
    },
    {
      "cell_type": "code",
      "metadata": {
        "id": "NMLUrbXwMxeK",
        "colab_type": "code",
        "colab": {}
      },
      "source": [
        "# mount google drive\n",
        "from google.colab import drive\n",
        "drive.mount(\"/content/drive\")"
      ],
      "execution_count": null,
      "outputs": []
    },
    {
      "cell_type": "code",
      "metadata": {
        "id": "mAQv9scBo8p7",
        "colab_type": "code",
        "colab": {
          "base_uri": "https://localhost:8080/",
          "height": 51
        },
        "outputId": "f33ebaff-9f82-46a1-83fa-2b5720cfbdeb"
      },
      "source": [
        "# import code\n",
        "import os\n",
        "import sys\n",
        "from pathlib import Path\n",
        "import string\n",
        "import datetime\n",
        "import re\n",
        "import tensorflow as tf\n",
        "from tensorflow.keras.preprocessing.text import Tokenizer\n",
        "from tensorflow.keras.preprocessing.sequence import pad_sequences\n",
        "import nltk\n",
        "nltk.download('punkt')\n",
        "from nltk.corpus import stopwords\n",
        "import numpy as np\n",
        "import tensorflow.keras.utils as ku\n",
        "from tensorflow.keras.models import Sequential\n",
        "from tensorflow.keras.layers import Embedding, LSTM, Dense, Dropout, Bidirectional\n",
        "from tensorflow.keras.callbacks import ModelCheckpoint, EarlyStopping, TensorBoard\n",
        "from tensorflow.keras import regularizers"
      ],
      "execution_count": 46,
      "outputs": [
        {
          "output_type": "stream",
          "text": [
            "[nltk_data] Downloading package punkt to /root/nltk_data...\n",
            "[nltk_data]   Package punkt is already up-to-date!\n"
          ],
          "name": "stdout"
        }
      ]
    },
    {
      "cell_type": "code",
      "metadata": {
        "id": "xraYCcbQNe3Y",
        "colab_type": "code",
        "colab": {
          "base_uri": "https://localhost:8080/",
          "height": 173
        },
        "outputId": "d635daff-4454-413c-f194-cc8bdbada23f"
      },
      "source": [
        "# define directories on Google Drive\n",
        "SHERLOCK_DIR = './drive/My Drive/sherlock'\n",
        "print(f\"SHERLOCK_DIR: {SHERLOCK_DIR}\")\n",
        "print(Path(SHERLOCK_DIR))\n",
        "STORY_DIR = Path(SHERLOCK_DIR) / 'story'\n",
        "MODEL_DIR = Path(SHERLOCK_DIR) / 'model'\n",
        "LOG_DIR = Path(SHERLOCK_DIR) / 'log'\n",
        "if not os.path.exists(STORY_DIR):\n",
        "  os.mkdir(STORY_DIR)\n",
        "if not os.path.exists(MODEL_DIR):\n",
        "  os.mkdir(MODEL_DIR)\n",
        "if not os.path.exists(LOG_DIR):\n",
        "  os.mkdir(LOG_DIR) \n",
        "print(f\"STORY_DIR: {STORY_DIR}\")\n",
        "print(f\"contents of STORY_DIR:    {os.listdir(STORY_DIR)}\")\n",
        "print(f\"MODEL_DIR: {MODEL_DIR}\")\n",
        "print(f\"contents of MODEL_DIR:    {os.listdir(MODEL_DIR)}\")\n",
        "print(f\"LOG_DIR: {LOG_DIR}\")\n",
        "print(f\"contents of LOG_DIR:    {os.listdir(LOG_DIR)}\")"
      ],
      "execution_count": 50,
      "outputs": [
        {
          "output_type": "stream",
          "text": [
            "SHERLOCK_DIR: ./drive/My Drive/sherlock\n",
            "drive/My Drive/sherlock\n",
            "STORY_DIR: drive/My Drive/sherlock/story\n",
            "contents of STORY_DIR:    ['sh_short.txt', 'sh_text_2.txt', 'sh_text_1.txt', 'sh_text_3.txt', 'sh_text_4.txt', 'sh_text_5.txt', 'sh_text_7.txt', 'sh_text_6.txt']\n",
            "MODEL_DIR: drive/My Drive/sherlock/model\n",
            "contents of MODEL_DIR:    ['model.data-00000-of-00001', 'model.index', 'checkpoint']\n",
            "LOG_DIR: drive/My Drive/sherlock/log\n",
            "contents of LOG_DIR:    ['train']\n"
          ],
          "name": "stdout"
        }
      ]
    },
    {
      "cell_type": "code",
      "metadata": {
        "id": "SBmEH_dPMGEl",
        "colab_type": "code",
        "colab": {
          "base_uri": "https://localhost:8080/",
          "height": 85
        },
        "outputId": "d42a8184-2ae1-4d6e-d83e-9edae9b8918e"
      },
      "source": [
        "# import story text files\n",
        "#story_files = ['sh_text_1.txt','sh_text_2.txt','sh_text_3.txt','sh_text_4.txt','sh_text_5.txt','sh_text_6.txt','sh_text_7.txt']\n",
        "story_files = ['sh_text_1.txt','sh_text_2.txt']\n",
        "\n",
        "# data structure: list of strings, each string is one txt story file\n",
        "story_list = []\n",
        "for story_file in story_files:\n",
        "  with open(os.path.join(STORY_DIR, story_file),encoding='utf-8-sig') as reader:\n",
        "    print(f\"story_file: {os.path.join(STORY_DIR, story_file)}\")\n",
        "    raw_story_string = reader.read()\n",
        "    story_list.append(raw_story_string)\n",
        "\n",
        "print(f\"story_list length:  {len(story_list)}\")\n",
        "print(f\"story type: {type(story_list[0])}\")"
      ],
      "execution_count": 32,
      "outputs": [
        {
          "output_type": "stream",
          "text": [
            "story_file: drive/My Drive/sherlock/story/sh_text_1.txt\n",
            "story_file: drive/My Drive/sherlock/story/sh_text_2.txt\n",
            "story_list length:  2\n",
            "story type: <class 'str'>\n"
          ],
          "name": "stdout"
        }
      ]
    },
    {
      "cell_type": "code",
      "metadata": {
        "id": "O1g4jL6E6bkw",
        "colab_type": "code",
        "colab": {
          "base_uri": "https://localhost:8080/",
          "height": 34
        },
        "outputId": "87a32071-a378-4e3a-f5c8-f946099658b3"
      },
      "source": [
        "# Pre-process Texts\n",
        "# remove most punctuation & chapter numbers\n",
        "# keep sentence ending punctuation [.?!] to allow sentence splitting below\n",
        "# include other angled quote marks found in the text [”“‘’]\n",
        "# remove end of line \\n\n",
        "# remove chapter headings, Roman numerals & Arabic numerals\n",
        "# keep the pronoun 'I', 'I.'\n",
        "# split into sentences using NLTK\n",
        "# remove sentence ending punctuation, whitespace and make lowercase\n",
        "\n",
        "punc_string = \"\\\"#$%&'()*+,-/:;<=>@[\\]^_`{|}~'”“‘’—\"\n",
        "print(f\"punc string:  {punc_string}\")\n",
        "\n",
        "story_list_2 = []\n",
        "for story in story_list:\n",
        "\n",
        "    # clean up text\n",
        "    # data structure: list of stories, each sotry a single string\n",
        "    #print(f\"BEFORE punc:\\n{story[:100]}\")\n",
        "    tt = story.maketrans('', '', punc_string)                                   # remove punctuation\n",
        "    story = story.translate(tt)\n",
        "    story = story.replace('\\n',' ')                                             # remove end of line character\n",
        "    story = re.sub('(CHAPTER|Chapter|PART)','',story)                           # remove chapter headings\n",
        "    story = re.sub('(XIII|XII|XI|X|IX|VIII|VII|VI|V|IV|III|II)(\\.?)','',story)  # remove Roman numeral chaper numbers\n",
        "    story = re.sub('(\\d+)\\.\\s','',story)                                        # remove Arabic numeral chaper numbers\n",
        "    #print(f\"AFTER punc :\\n{story[:100]}\")\n",
        "\n",
        "    # split into sentences\n",
        "    # data structure: list of stories, each story a list of strings, one for each sentence\n",
        "    new_story = nltk.tokenize.sent_tokenize(story)\n",
        "    #print(f\"AFTER sentence :\\n{new_story[:100]}\")\n",
        "\n",
        "    # add updated story to list\n",
        "    story_list_2.append(new_story)"
      ],
      "execution_count": 38,
      "outputs": [
        {
          "output_type": "stream",
          "text": [
            "punc string:  \"#$%&'()*+,-/:;<=>@[\\]^_`{|}~'”“‘’—\n"
          ],
          "name": "stdout"
        }
      ]
    },
    {
      "cell_type": "code",
      "metadata": {
        "id": "0lbRlCHz7Qb7",
        "colab_type": "code",
        "colab": {
          "base_uri": "https://localhost:8080/",
          "height": 105
        },
        "outputId": "483ae393-7382-4da6-ce6f-a00d2b645648"
      },
      "source": [
        "# remove sentence ending punctuation [.?!]\n",
        "story_list_3 = []\n",
        "for story in story_list_2:\n",
        "    new_story = []\n",
        "    for sentence in story:\n",
        "        sentence = sentence.translate(sentence.maketrans('','','.?!'))\n",
        "        sentence = sentence.replace('/t','')\n",
        "        sentence = sentence.strip()\n",
        "        new_sentence = sentence.lower()\n",
        "        new_story.append(new_sentence)\n",
        "    print(f\"AFTER :\\n{new_story[:100]}\")\n",
        "    story_list_3.append(new_story)"
      ],
      "execution_count": 39,
      "outputs": [
        {
          "output_type": "stream",
          "text": [
            "AFTER :\n",
            "['a scandal in bohemia   i', 'to sherlock holmes she is always the woman', 'i have seldom heard him mention her under any other name', 'in his eyes she eclipses and predominates the whole of her sex', 'it was not that he felt any emotion akin to love for irene adler', 'all emotions and that one particularly were abhorrent to his cold precise but admirably balanced mind', 'he was i take it the most perfect reasoning and observing machine that the world has seen but as a lover he would have placed himself in a false position', 'he never spoke of the softer passions save with a gibe and a sneer', 'they were admirable things for the observerexcellent for drawing the veil from mens motives and actions', 'but for the trained reasoner to admit such intrusions into his own delicate and finely adjusted temperament was to introduce a distracting factor which might throw a doubt upon all his mental results', 'grit in a sensitive instrument or a crack in one of his own highpower lenses would not be more disturbing than a strong emotion in a nature such as his', 'and yet there was but one woman to him and that woman was the late irene adler of dubious and questionable memory', 'i had seen little of holmes lately', 'my marriage had drifted us away from each other', 'my own complete happiness and the homecentred interests which rise up around the man who first finds himself master of his own establishment were sufficient to absorb all my attention while holmes who loathed every form of society with his whole bohemian soul remained in our lodgings in baker street buried among his old books and alternating from week to week between cocaine and ambition the drowsiness of the drug and the fierce energy of his own keen nature', 'he was still as ever deeply attracted by the study of crime and occupied his immense faculties and extraordinary powers of observation in following out those clues and clearing up those mysteries which had been abandoned as hopeless by the official police', 'from time to time i heard some vague account of his doings of his summons to odessa in the case of the trepoff murder of his clearing up of the singular tragedy of the atkinson brothers at trincomalee and finally of the mission which he had accomplished so delicately and successfully for the reigning family of holland', 'beyond these signs of his activity however which i merely shared with all the readers of the daily press i knew little of my former friend and companion', 'one nightit was on the twentieth of march 1888i was returning from a journey to a patient for i had now returned to civil practice when my way led me through baker street', 'as i passed the wellremembered door which must always be associated in my mind with my wooing and with the dark incidents of the study in scarlet i was seized with a keen desire to see holmes again and to know how he was employing his extraordinary powers', 'his rooms were brilliantly lit and even as i looked up i saw his tall spare figure pass twice in a dark silhouette against the blind', 'he was pacing the room swiftly eagerly with his head sunk upon his chest and his hands clasped behind him', 'to me who knew his every mood and habit his attitude and manner told their own story', 'he was at work again', 'he had risen out of his drugcreated dreams and was hot upon the scent of some new problem', 'i rang the bell and was shown up to the chamber which had formerly been in part my own', 'his manner was not effusive', 'it seldom was but he was glad i think to see me', 'with hardly a word spoken but with a kindly eye he waved me to an armchair threw across his case of cigars and indicated a spirit case and a gasogene in the corner', 'then he stood before the fire and looked me over in his singular introspective fashion', 'wedlock suits you he remarked', 'i think watson that you have put on seven and a half pounds since i saw you', 'seven', 'i answered', 'indeed i should have thought a little more', 'just a trifle more i fancy watson', 'and in practice again i observe', 'you did not tell me that you intended to go into harness', 'then how do you know', 'i see it i deduce it', 'how do i know that you have been getting yourself very wet lately and that you have a most clumsy and careless servant girl', 'my dear holmes said i this is too much', 'you would certainly have been burned had you lived a few centuries ago', 'it is true that i had a country walk on thursday and came home in a dreadful mess but as i have changed my clothes i cant imagine how you deduce it', 'as to mary jane she is incorrigible and my wife has given her notice but there again i fail to see how you work it out', 'he chuckled to himself and rubbed his long nervous hands together', 'it is simplicity itself said he my eyes tell me that on the inside of your left shoe just where the firelight strikes it the leather is scored by six almost parallel cuts', 'obviously they have been caused by someone who has very carelessly scraped round the edges of the sole in order to remove crusted mud from it', 'hence you see my double deduction that you had been out in vile weather and that you had a particularly malignant bootslitting specimen of the london slavey', 'as to your practice if a gentleman walks into my rooms smelling of iodoform with a black mark of nitrate of silver upon his right forefinger and a bulge on the right side of his tophat to show where he has secreted his stethoscope i must be dull indeed if i do not pronounce him to be an active member of the medical profession', 'i could not help laughing at the ease with which he explained his process of deduction', 'when i hear you give your reasons i remarked the thing always appears to me to be so ridiculously simple that i could easily do it myself though at each successive instance of your reasoning i am baffled until you explain your process', 'and yet i believe that my eyes are as good as yours', 'quite so he answered lighting a cigarette and throwing himself down into an armchair', 'you see but you do not observe', 'the distinction is clear', 'for example you have frequently seen the steps which lead up from the hall to this room', 'frequently', 'how often', 'well some hundreds of times', 'then how many are there', 'how many', 'i dont know', 'quite so', 'you have not observed', 'and yet you have seen', 'that is just my point', 'now i know that there are seventeen steps because i have both seen and observed', 'by the way since you are interested in these little problems and since you are good enough to chronicle one or two of my trifling experiences you may be interested in this', 'he threw over a sheet of thick pinktinted notepaper which had been lying open upon the table', 'it came by the last post said he', 'read it aloud', 'the note was undated and without either signature or address', 'there will call upon you tonight at a quarter to eight oclock it said a gentleman who desires to consult you upon a matter of the very deepest moment', 'your recent services to one of the royal houses of europe have shown that you are one who may safely be trusted with matters which are of an importance which can hardly be exaggerated', 'this account of you we have from all quarters received', 'be in your chamber then at that hour and do not take it amiss if your visitor wear a mask', 'this is indeed a mystery i remarked', 'what do you imagine that it means', 'i have no data yet', 'it is a capital mistake to theorise before one has data', 'insensibly one begins to twist facts to suit theories instead of theories to suit facts', 'but the note itself', 'what do you deduce from it', 'i carefully examined the writing and the paper upon which it was written', 'the man who wrote it was presumably well to do i remarked endeavouring to imitate my companions processes', 'such paper could not be bought under half a crown a packet', 'it is peculiarly strong and stiff', 'peculiarthat is the very word said holmes', 'it is not an english paper at all', 'hold it up to the light', 'i did so and saw a large e with a small g a p and a large g with a small t woven into the texture of the paper', 'what do you make of that', 'asked holmes', 'the name of the maker no doubt or his monogram rather', 'not at all', 'the g with the small t stands for gesellschaft which is the german for company', 'it is a customary contraction like our co p of course stands for papier', 'now for the eg', 'let us glance at our continental gazetteer']\n",
            "AFTER :\n",
            "['i mr sherlock holmes', 'in the year 1878 i took my degree of doctor of medicine of the university of london and proceeded to netley to go through the course prescribed for surgeons in the army', 'having completed my studies there i was duly attached to the fifth northumberland fusiliers as assistant surgeon', 'the regiment was stationed in india at the time and before i could join it the second afghan war had broken out', 'on landing at bombay i learned that my corps had advanced through the passes and was already deep in the enemys country', 'i followed however with many other officers who were in the same situation as myself and succeeded in reaching candahar in safety where i found my regiment and at once entered upon my new duties', 'the campaign brought honours and promotion to many but for me it had nothing but misfortune and disaster', 'i was removed from my brigade and attached to the berkshires with whom i served at the fatal battle of maiwand', 'there i was struck on the shoulder by a jezail bullet which shattered the bone and grazed the subclavian artery', 'i should have fallen into the hands of the murderous ghazis had it not been for the devotion and courage shown by murray my orderly who threw me across a packhorse and succeeded in bringing me safely to the british lines', 'worn with pain and weak from the prolonged hardships which i had undergone i was removed with a great train of wounded sufferers to the base hospital at peshawar', 'here i rallied and had already improved so far as to be able to walk about the wards and even to bask a little upon the verandah when i was struck down by enteric fever that curse of our indian possessions', 'for months my life was despaired of and when at last i came to myself and became convalescent i was so weak and emaciated that a medical board determined that not a day should be lost in sending me back to england', 'i was dispatched accordingly in the troopship orontes and landed a month later on portsmouth jetty with my health irretrievably ruined but with permission from a paternal government to spend the next nine months in attempting to improve it', 'i had neither kith nor kin in england and was therefore as free as airor as free as an income of eleven shillings and sixpence a day will permit a man to be', 'under such circumstances i naturally gravitated to london that great cesspool into which all the loungers and idlers of the empire are irresistibly drained', 'there i stayed for some time at a private hotel in the strand leading a comfortless meaningless existence and spending such money as i had considerably more freely than i ought', 'so alarming did the state of my finances become that i soon realized that i must either leave the metropolis and rusticate somewhere in the country or that i must make a complete alteration in my style of living', 'choosing the latter alternative i began by making up my mind to leave the hotel and to take up my quarters in some less pretentious and less expensive domicile', 'on the very day that i had come to this conclusion i was standing at the criterion bar when some one tapped me on the shoulder and turning round i recognized young stamford who had been a dresser under me at barts', 'the sight of a friendly face in the great wilderness of london is a pleasant thing indeed to a lonely man', 'in old days stamford had never been a particular crony of mine but now i hailed him with enthusiasm and he in his turn appeared to be delighted to see me', 'in the exuberance of my joy i asked him to lunch with me at the holborn and we started off together in a hansom', 'whatever have you been doing with yourself watson', 'he asked in undisguised wonder as we rattled through the crowded london streets', 'you are as thin as a lath and as brown as a nut', 'i gave him a short sketch of my adventures and had hardly concluded it by the time that we reached our destination', 'poor devil', 'he said commiseratingly after he had listened to my misfortunes', 'what are you up to now', 'looking for lodgings', '3 i answered', 'trying to solve the problem as to whether it is possible to get comfortable rooms at a reasonable price', 'thats a strange thing remarked my companion you are the second man today that has used that expression to me', 'and who was the first', 'i asked', 'a fellow who is working at the chemical laboratory up at the hospital', 'he was bemoaning himself this morning because he could not get someone to go halves with him in some nice rooms which he had found and which were too much for his purse', 'by jove', 'i cried if he really wants someone to share the rooms and the expense i am the very man for him', 'i should prefer having a partner to being alone', 'young stamford looked rather strangely at me over his wineglass', 'you dont know sherlock holmes yet he said perhaps you would not care for him as a constant companion', 'why what is there against him', 'oh i didnt say there was anything against him', 'he is a little queer in his ideasan enthusiast in some branches of science', 'as far as i know he is a decent fellow enough', 'a medical student i suppose', 'said i  noi have no idea what he intends to go in for', 'i believe he is well up in anatomy and he is a firstclass chemist but as far as i know he has never taken out any systematic medical classes', 'his studies are very desultory and eccentric but he has amassed a lot of outofthe way knowledge which would astonish his professors', 'did you never ask him what he was going in for', 'i asked', 'no he is not a man that it is easy to draw out though he can be communicative enough when the fancy seizes him', 'i should like to meet him i said', 'if i am to lodge with anyone i should prefer a man of studious and quiet habits', 'i am not strong enough yet to stand much noise or excitement', 'i had enough of both in afghanistan to last me for the remainder of my natural existence', 'how could i meet this friend of yours', 'he is sure to be at the laboratory returned my companion', 'he either avoids the place for weeks or else he works there from morning to night', 'if you like we shall drive round together after luncheon', 'certainly i answered and the conversation drifted away into other channels', 'as we made our way to the hospital after leaving the holborn stamford gave me a few more particulars about the gentleman whom i proposed to take as a fellowlodger', 'you mustnt blame me if you dont get on with him he said i know nothing more of him than i have learned from meeting him occasionally in the laboratory', 'you proposed this arrangement so you must not hold me responsible', 'if we dont get on it will be easy to part company i answered', 'it seems to me stamford i added looking hard at my companion that you have some reason for washing your hands of the matter', 'is this fellows temper so formidable or what is it', 'dont be mealymouthed about it', 'it is not easy to express the inexpressible he answered with a laugh', 'holmes is a little too scientific for my tastesit approaches to coldbloodedness', 'i could imagine his giving a friend a little pinch of the latest vegetable alkaloid not out of malevolence you understand but simply out of a spirit of inquiry in order to have an accurate idea of the effects', 'to do him justice i think that he would take it himself with the same readiness', 'he appears to have a passion for definite and exact knowledge', 'ery right too', 'yes but it may be pushed to excess', 'when it comes to beating the subjects in the dissectingrooms with a stick it is certainly taking rather a bizarre shape', 'beating the subjects', 'yes to verify how far bruises may be produced after death', 'i saw him at it with my own eyes', 'and yet you say he is not a medical student', 'no', 'heaven knows what the objects of his studies are', 'but here we are and you must form your own impressions about him', 'as he spoke we turned down a narrow lane and passed through a small sidedoor which opened into a wing of the great hospital', 'it was familiar ground to me and i needed no guiding as we ascended the bleak stone staircase and made our way down the long corridor with its vista of whitewashed wall and duncoloured doors', 'near the further end a low arched passage branched away from it and led to the chemical laboratory', 'this was a lofty chamber lined and littered with countless bottles', 'broad low tables were scattered about which bristled with retorts testtubes and little bunsen lamps with their blue flickering flames', 'there was only one student in the room who was bending over a distant table absorbed in his work', 'at the sound of our steps he glanced round and sprang to his feet with a cry of pleasure', 'ive found it', 'ive found it he shouted to my companion running towards us with a testtube in his hand', 'i have found a reagent which is precipitated by hoemoglobin 4 and by nothing else', 'had he discovered a gold mine greater delight could not have shone upon his features', 'dr watson mr sherlock holmes said stamford introducing us', 'how are you', 'he said cordially gripping my hand with a strength for which i should hardly have given him credit', 'you have been in afghanistan i perceive']\n"
          ],
          "name": "stdout"
        }
      ]
    },
    {
      "cell_type": "code",
      "metadata": {
        "id": "ac8ujU-bGE1J",
        "colab_type": "code",
        "colab": {
          "base_uri": "https://localhost:8080/",
          "height": 88
        },
        "outputId": "1cfb5e97-cd93-4d79-a226-ca7404472b4d"
      },
      "source": [
        "# tokenize words, create word_index\n",
        "vocab_size = 500\n",
        "print(f\"vocab_size: {vocab_size}\")\n",
        "tokenizer = Tokenizer(num_words=vocab_size,oov_token='OOV')\n",
        "for story in story_list_3:\n",
        "    tokenizer.fit_on_texts(story)\n",
        "total_words = len(tokenizer.word_index) + 1\n",
        "print(f\"total_words: {total_words}\")\n",
        "#print(f\"tokenized text: {tokenizer.get_config()}\")\n",
        "\n",
        "# convert to token sequences based on word_index\n",
        "seq_list = []\n",
        "for story in story_list_3:\n",
        "    seq = tokenizer.texts_to_sequences(story)\n",
        "    seq_list.append(seq)\n",
        "print(f\"sequence list:  {seq_list[0][:10]}\")"
      ],
      "execution_count": 40,
      "outputs": [
        {
          "output_type": "stream",
          "text": [
            "vocab_size: 500\n",
            "total_words: 10763\n",
            "sequence list:  [[7, 1, 8, 1, 4], [6, 124, 40, 44, 15, 221, 2, 226], [4, 18, 1, 129, 30, 1, 36, 246, 96, 86, 191], [8, 14, 125, 44, 1, 3, 1, 2, 217, 5, 36, 1], [10, 12, 27, 9, 11, 329, 96, 1, 1, 6, 1, 23, 1, 1], [38, 1, 3, 9, 42, 1, 43, 1, 6, 14, 1, 1, 26, 1, 1, 185], [11, 12, 4, 165, 10, 2, 146, 1, 1, 3, 1, 1, 9, 2, 1, 62, 174, 26, 19, 7, 1, 11, 51, 18, 1, 141, 8, 7, 1, 1], [11, 118, 284, 5, 2, 1, 1, 359, 20, 7, 1, 3, 7, 1], [59, 43, 1, 390, 23, 2, 1, 23, 1, 2, 1, 33, 1, 1, 3, 1], [26, 23, 2, 1, 1, 6, 1, 111, 1, 60, 14, 119, 1, 3, 1, 1, 1, 12, 6, 1, 7, 1, 1, 22, 105, 1, 7, 207, 34, 38, 14, 1, 1]]\n"
          ],
          "name": "stdout"
        }
      ]
    },
    {
      "cell_type": "code",
      "metadata": {
        "id": "ypiiPm1zTePP",
        "colab_type": "code",
        "colab": {
          "base_uri": "https://localhost:8080/",
          "height": 122
        },
        "outputId": "b1c3e357-bb5d-4af5-acb9-23a72131b6e6"
      },
      "source": [
        "# create n-grams of increasing length from each sequence in corpus\n",
        "n_gram_list = []\n",
        "for story in seq_list:\n",
        "    for sentence in story:\n",
        "        for i in range(1, len(sentence)):\n",
        "            n_gram_seq = sentence[:i+1]\n",
        "            n_gram_list.append(n_gram_seq)\n",
        "print(f\"n-gram sequences:\\n{n_gram_list[:10]}\")\n",
        "print(len(n_gram_list))\n",
        "\n",
        "# pad from left, convert to numpy array\n",
        "max_seq_len = max([len(x) for x in n_gram_list])\n",
        "print(f\"max seq len: {max_seq_len}\")\n",
        "pad_seq_list = np.array(pad_sequences(n_gram_list, maxlen=max_seq_len, padding='pre'))\n",
        "print(f\"pad_seq_list: {pad_seq_list.shape}\")"
      ],
      "execution_count": 41,
      "outputs": [
        {
          "output_type": "stream",
          "text": [
            "n-gram sequences:\n",
            "[[7, 1], [7, 1, 8], [7, 1, 8, 1], [7, 1, 8, 1, 4], [6, 124], [6, 124, 40], [6, 124, 40, 44], [6, 124, 40, 44, 15], [6, 124, 40, 44, 15, 221], [6, 124, 40, 44, 15, 221, 2]]\n",
            "138181\n",
            "max seq len: 101\n",
            "pad_seq_list: (138181, 101)\n"
          ],
          "name": "stdout"
        }
      ]
    },
    {
      "cell_type": "code",
      "metadata": {
        "id": "5Ll4eedEK8bH",
        "colab_type": "code",
        "colab": {
          "base_uri": "https://localhost:8080/",
          "height": 119
        },
        "outputId": "8da141b2-8fe8-4bbb-b354-f014cc93186d"
      },
      "source": [
        "# create feature and label arrays\n",
        "features= pad_seq_list[:,:-1]\n",
        "print(f\"features: {features.shape}\")\n",
        "labels_seq = np.expand_dims(pad_seq_list[:,-1], axis=1)\n",
        "print(f\"labels: {labels_seq.shape}\")\n",
        "labels_hot = ku.to_categorical(labels_seq, num_classes=vocab_size)     # one hot encoding\n",
        "print(f\"labels_hot:{labels_hot.shape}\\n{labels_hot[:3]}\")"
      ],
      "execution_count": 42,
      "outputs": [
        {
          "output_type": "stream",
          "text": [
            "features: (138181, 100)\n",
            "labels: (138181, 1)\n",
            "labels_hot:(138181, 500)\n",
            "[[0. 1. 0. ... 0. 0. 0.]\n",
            " [0. 0. 0. ... 0. 0. 0.]\n",
            " [0. 1. 0. ... 0. 0. 0.]]\n"
          ],
          "name": "stdout"
        }
      ]
    },
    {
      "cell_type": "code",
      "metadata": {
        "id": "IIHiOZTFtNXK",
        "colab_type": "code",
        "colab": {
          "base_uri": "https://localhost:8080/",
          "height": 102
        },
        "outputId": "5aa00b3f-f5dc-44a9-b907-40819c9babfa"
      },
      "source": [
        "#### CALLBACKS ####\n",
        "\n",
        "# model save checkpoint callback\n",
        "print(MODEL_DIR)\n",
        "sav_cb = ModelCheckpoint(filepath=Path(MODEL_DIR),\n",
        "                          save_weights_only=True,\n",
        "                          verbose=1,\n",
        "                          save_freq='epoch')\n",
        "print(\"ModelCheckpoint callback defined\")\n",
        "\n",
        "# save weights manually (or sue callback in training loop to save regulary)\n",
        "#model.save_weights('./checkpoints/my_checkpoint')\n",
        "\n",
        "# Tensorboard callback\n",
        "print(LOG_DIR)\n",
        "TBD_LOG = Path(LOG_DIR) / datetime.datetime.now().strftime(\"%Y%m%d-%H%M%S\")\n",
        "print(TBD_LOG)\n",
        "tbd_cb = TensorBoard(log_dir=TBD_LOG, histogram_freq=1)\n",
        "\n",
        "print(\"Tensorboard callback defined\")"
      ],
      "execution_count": 47,
      "outputs": [
        {
          "output_type": "stream",
          "text": [
            "drive/My Drive/sherlock/model\n",
            "ModelCheckpoint callback defined\n",
            "drive/My Drive/sherlock/log\n",
            "drive/My Drive/sherlock/log/20200907-162925\n",
            "Tensorboard callback defined\n"
          ],
          "name": "stdout"
        }
      ]
    },
    {
      "cell_type": "code",
      "metadata": {
        "id": "boyAaprsrcnc",
        "colab_type": "code",
        "colab": {
          "base_uri": "https://localhost:8080/",
          "height": 374
        },
        "outputId": "6fecd1bd-ae33-4e6e-a877-11b7e6a8ce22"
      },
      "source": [
        "#### MODEL ####\n",
        "\n",
        "# function to create  model\n",
        "def create_model(embed_size, seq_length, words, lstm_units1, lstm_units2):\n",
        "    model = Sequential([                                                               # [batch, seq_length] input tensor\n",
        "        Embedding(words, embed_size, input_length=seq_length),                         # [batch, seq_length, embed_size]\n",
        "        Bidirectional(LSTM(lstm_units1, return_sequences = True)),                     # [batch, seq_length, 2*lstm_units]\n",
        "        Dropout(0.2),                                                                  # [batch, same as prev, same as prev]\n",
        "        LSTM(lstm_units2),                                                             # [batch, lstm_units]\n",
        "        Dense(words/4, activation='relu', kernel_regularizer=regularizers.l2(0.01)),   # [batch, dense_units]\n",
        "        Dense(words, activation='softmax')                                             # [batch, dense_units]\n",
        "    ])\n",
        "    model.summary()\n",
        "    model.compile(loss='categorical_crossentropy',\n",
        "                    optimizer='Adam',\n",
        "                    metrics=['accuracy'])\n",
        "    print(\"model created\")\n",
        "    return model\n",
        "\n",
        "# define model\n",
        "embed_size = 10\n",
        "bi_lstm_units = 10\n",
        "lstm_units = 10\n",
        "sh_model = create_model(embed_size, max_seq_len-1, vocab_size, bi_lstm_units, lstm_units)"
      ],
      "execution_count": 17,
      "outputs": [
        {
          "output_type": "stream",
          "text": [
            "Model: \"sequential\"\n",
            "_________________________________________________________________\n",
            "Layer (type)                 Output Shape              Param #   \n",
            "=================================================================\n",
            "embedding (Embedding)        (None, 106, 10)           5000      \n",
            "_________________________________________________________________\n",
            "bidirectional (Bidirectional (None, 106, 20)           1680      \n",
            "_________________________________________________________________\n",
            "dropout (Dropout)            (None, 106, 20)           0         \n",
            "_________________________________________________________________\n",
            "lstm_1 (LSTM)                (None, 10)                1240      \n",
            "_________________________________________________________________\n",
            "dense (Dense)                (None, 125)               1375      \n",
            "_________________________________________________________________\n",
            "dense_1 (Dense)              (None, 500)               63000     \n",
            "=================================================================\n",
            "Total params: 72,295\n",
            "Trainable params: 72,295\n",
            "Non-trainable params: 0\n",
            "_________________________________________________________________\n",
            "model created\n"
          ],
          "name": "stdout"
        }
      ]
    },
    {
      "cell_type": "code",
      "metadata": {
        "id": "w7ndbSpi1tQ2",
        "colab_type": "code",
        "colab": {
          "base_uri": "https://localhost:8080/",
          "height": 241
        },
        "outputId": "4babe9d0-2794-4386-bb10-08114fd41466"
      },
      "source": [
        "# fit model\n",
        "sh_model_hist = sh_model.fit(features, labels_hot, epochs=2, verbose=2, callbacks=[tbd_cb, sav_cb])"
      ],
      "execution_count": 18,
      "outputs": [
        {
          "output_type": "stream",
          "text": [
            "Epoch 1/2\n",
            "WARNING:tensorflow:From /usr/local/lib/python3.6/dist-packages/tensorflow/python/ops/summary_ops_v2.py:1277: stop (from tensorflow.python.eager.profiler) is deprecated and will be removed after 2020-07-01.\n",
            "Instructions for updating:\n",
            "use `tf.profiler.experimental.stop` instead.\n",
            "WARNING:tensorflow:Callbacks method `on_train_batch_end` is slow compared to the batch time (batch time: 0.0969s vs `on_train_batch_end` time: 0.2447s). Check your callbacks.\n",
            "\n",
            "Epoch 00001: saving model to drive/My Drive/sherlock/model\n",
            "15045/15045 - 1176s - loss: 4.0321 - accuracy: 0.2600\n",
            "Epoch 2/2\n",
            "\n",
            "Epoch 00002: saving model to drive/My Drive/sherlock/model\n",
            "15045/15045 - 1167s - loss: 3.7138 - accuracy: 0.2758\n"
          ],
          "name": "stdout"
        }
      ]
    },
    {
      "cell_type": "code",
      "metadata": {
        "id": "N-OkoxxkIPuX",
        "colab_type": "code",
        "colab": {
          "base_uri": "https://localhost:8080/",
          "height": 34
        },
        "outputId": "1ca13890-e913-4c16-e264-e4689131213a"
      },
      "source": [
        "# Load the TensorBoard notebook extension\n",
        "#%load_ext tensorboard\n",
        "\n",
        "# run tensorboard (can also run from console)\n",
        "print(LOG_DIR)\n",
        "#%tensorboard --logdir LOG_DIR\n",
        "#%tensorboard --inspect --logdir LOG_DIR   # to check the files exist in directory\n"
      ],
      "execution_count": 30,
      "outputs": [
        {
          "output_type": "stream",
          "text": [
            "drive/My Drive/sherlock/log\n"
          ],
          "name": "stdout"
        }
      ]
    },
    {
      "cell_type": "code",
      "metadata": {
        "id": "OzjdtGztyIpo",
        "colab_type": "code",
        "colab": {
          "base_uri": "https://localhost:8080/",
          "height": 545
        },
        "outputId": "ccc56acd-7b77-4d63-f7ee-6be4bc33f0c1"
      },
      "source": [
        "# plot learning results\n",
        "import matplotlib.pyplot as plt\n",
        "acc = sh_model_hist.history['accuracy']\n",
        "loss = sh_model_hist.history['loss']\n",
        "epochs = range(len(acc))\n",
        "\n",
        "plt.plot(epochs, acc, 'b', label='Training accuracy')\n",
        "plt.title('Training accuracy')\n",
        "plt.figure()\n",
        "plt.plot(epochs, loss, 'b', label='Training Loss')\n",
        "plt.title('Training loss')\n",
        "plt.legend()\n",
        "plt.show()"
      ],
      "execution_count": 25,
      "outputs": [
        {
          "output_type": "display_data",
          "data": {
            "image/png": "[encoded data removed]",
            "text/plain": [
              "<Figure size 432x288 with 1 Axes>"
            ]
          },
          "metadata": {
            "tags": [],
            "needs_background": "light"
          }
        },
        {
          "output_type": "display_data",
          "data": {
            "image/png": "[encoded data removed]",
            "text/plain": [
              "<Figure size 432x288 with 1 Axes>"
            ]
          },
          "metadata": {
            "tags": [],
            "needs_background": "light"
          }
        }
      ]
    },
    {
      "cell_type": "code",
      "metadata": {
        "id": "zyey5fWIxWZ1",
        "colab_type": "code",
        "colab": {
          "base_uri": "https://localhost:8080/",
          "height": 51
        },
        "outputId": "4bbbc015-5447-4c0e-92d2-23f2726d9770"
      },
      "source": [
        "# restore saved model \n",
        "\n",
        "# confirm weights file saved\n",
        "print(os.listdir(checkpoint_dir))\n",
        "\n",
        "# Create a basic model instance\n",
        "restored_sh_model = create_model(embedding_size, max_seq_len-1, total_words)\n",
        "\n",
        "# Loads the saved model weights\n",
        "restored_sh_model.load_weights(checkpoint_path)\n",
        "\n",
        "# Re-evaluate the model\n",
        "#loss,acc = restored_sh_model.evaluate(test_images,  test_labels, verbose=2)\n",
        "#print(\"Restored model, accuracy: {:5.2f}%\".format(100*acc))"
      ],
      "execution_count": null,
      "outputs": [
        {
          "output_type": "stream",
          "text": [
            "['sh_short.txt', 'cp.ckpt.data-00000-of-00001', 'cp.ckpt.index', 'checkpoint']\n"
          ],
          "name": "stdout"
        },
        {
          "output_type": "execute_result",
          "data": {
            "text/plain": [
              "<tensorflow.python.training.tracking.util.CheckpointLoadStatus at 0x7fc466d32128>"
            ]
          },
          "metadata": {
            "tags": []
          },
          "execution_count": 41
        }
      ]
    },
    {
      "cell_type": "code",
      "metadata": {
        "id": "Cc6mX0Iow9Ju",
        "colab_type": "code",
        "colab": {
          "base_uri": "https://localhost:8080/",
          "height": 34
        },
        "outputId": "6cb20274-b237-4831-c018-61b808079424"
      },
      "source": [
        "# use model to make a prediction\n",
        "seed_text = \"hello watson\"\n",
        "next_words = 20\n",
        "\n",
        "for _ in range(next_words):\n",
        "    token_list = tokenizer.texts_to_sequences([seed_text])[0]\n",
        "    token_list = pad_sequences([token_list], maxlen=max_seq_len - 1, padding='pre')\n",
        "    predicted = restored_sh_model.predict_classes(token_list, verbose=0)\n",
        "    output_word = \"\"\n",
        "    for word, index in tokenizer.word_index.items():\n",
        "        if index == predicted:\n",
        "            output_word = word\n",
        "            break\n",
        "    seed_text += \" \" + output_word\n",
        "print(seed_text)"
      ],
      "execution_count": null,
      "outputs": [
        {
          "output_type": "stream",
          "text": [
            "hello watson as i am in the photograph he said he i had been unlikely it lead things by a room with\n"
          ],
          "name": "stdout"
        }
      ]
    },
    {
      "cell_type": "code",
      "metadata": {
        "id": "okbeuEN_K0tu",
        "colab_type": "code",
        "colab": {}
      },
      "source": [
        ""
      ],
      "execution_count": null,
      "outputs": []
    }
  ]
}