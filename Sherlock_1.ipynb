{
  "nbformat": 4,
  "nbformat_minor": 0,
  "metadata": {
    "colab": {
      "name": "Sherlock_1.ipynb",
      "provenance": [],
      "collapsed_sections": [],
      "authorship_tag": "ABX9TyPMTZ/Tg0z+emCQaXEFbIpG",
      "include_colab_link": true
    },
    "kernelspec": {
      "name": "python3",
      "display_name": "Python 3"
    }
  },
  "cells": [
    {
      "cell_type": "markdown",
      "metadata": {
        "id": "view-in-github",
        "colab_type": "text"
      },
      "source": [
        "<a href=\"https://colab.research.google.com/github/gorogoro-uk/NLP-project/blob/master/Sherlock_1.ipynb\" target=\"_parent\"><img src=\"https://colab.research.google.com/assets/colab-badge.svg\" alt=\"Open In Colab\"/></a>"
      ]
    },
    {
      "cell_type": "markdown",
      "metadata": {
        "id": "sEVAtEm0M3Vb",
        "colab_type": "text"
      },
      "source": [
        "Sherlock HOlmes Text prediction project"
      ]
    },
    {
      "cell_type": "code",
      "metadata": {
        "id": "NMLUrbXwMxeK",
        "colab_type": "code",
        "colab": {
          "base_uri": "https://localhost:8080/",
          "height": 122
        },
        "outputId": "0e38c600-51bc-40cb-c4f1-e01688535318"
      },
      "source": [
        "# mount google drive with data\n",
        "from google.colab import drive\n",
        "drive.mount(\"/content/drive\")"
      ],
      "execution_count": null,
      "outputs": [
        {
          "output_type": "stream",
          "text": [
            "Go to this URL in a browser: https://accounts.google.com/o/oauth2/auth?client_id=947318989803-6bn6qk8qdgf4n4g3pfee6491hc0brc4i.apps.googleusercontent.com&redirect_uri=urn%3aietf%3awg%3aoauth%3a2.0%3aoob&scope=email%20https%3a%2f%2fwww.googleapis.com%2fauth%2fdocs.test%20https%3a%2f%2fwww.googleapis.com%2fauth%2fdrive%20https%3a%2f%2fwww.googleapis.com%2fauth%2fdrive.photos.readonly%20https%3a%2f%2fwww.googleapis.com%2fauth%2fpeopleapi.readonly&response_type=code\n",
            "\n",
            "Enter your authorization code:\n",
            "··········\n",
            "Mounted at /content/drive\n"
          ],
          "name": "stdout"
        }
      ]
    },
    {
      "cell_type": "code",
      "metadata": {
        "id": "mAQv9scBo8p7",
        "colab_type": "code",
        "colab": {}
      },
      "source": [
        "# imports\n",
        "import os\n",
        "from pathlib import Path\n",
        "import string\n",
        "nltk.download('punkt')"
      ],
      "execution_count": null,
      "outputs": []
    },
    {
      "cell_type": "code",
      "metadata": {
        "id": "xraYCcbQNe3Y",
        "colab_type": "code",
        "colab": {
          "base_uri": "https://localhost:8080/",
          "height": 51
        },
        "outputId": "4175ac97-6495-4a28-cc66-26404f1d07fb"
      },
      "source": [
        "# define working directory\n",
        "os.chdir('./drive/My Drive/sherlock')\n",
        "print(f\"listdir:    {os.listdir(os.getcwd())}\")\n",
        "STORY_FILE = './sh_short.txt'\n",
        "print(f\"STORY_FILE: {STORY_FILE}\")"
      ],
      "execution_count": null,
      "outputs": [
        {
          "output_type": "stream",
          "text": [
            "listdir:    ['sh_short.txt']\n",
            "STORY_FILE: ./sh_short.txt\n"
          ],
          "name": "stdout"
        }
      ]
    },
    {
      "cell_type": "code",
      "metadata": {
        "id": "AhifMTcSOljT",
        "colab_type": "code",
        "colab": {
          "base_uri": "https://localhost:8080/",
          "height": 170
        },
        "outputId": "69740ec6-98f9-4bd2-d96d-6d9c550d2586"
      },
      "source": [
        "# Import text story file\n",
        "with open(STORY_FILE) as reader:\n",
        "    raw_data = reader.read()   # raw_data is very long string\n",
        "\n",
        "print(f\"raw_data type:    {type(raw_data)}\")\n",
        "print(f\"raw_data length:  {len(raw_data)}\")\n",
        "print(raw_data[:300])"
      ],
      "execution_count": 74,
      "outputs": [
        {
          "output_type": "stream",
          "text": [
            "raw_data type:    <class 'str'>\n",
            "raw_data length:  46514\n",
            "\n",
            "I. A SCANDAL IN BOHEMIA.\n",
            "I.\n",
            "To Sherlock Holmes she is always _the_ woman. I have seldom heard him\n",
            "mention her under any other name. In his eyes she eclipses and\n",
            "predominates the whole of her sex. It was not that he felt any emotion\n",
            "akin to love for Irene Adler. All emotions, and that one particular\n"
          ],
          "name": "stdout"
        }
      ]
    },
    {
      "cell_type": "code",
      "metadata": {
        "id": "aXnxddywR4bf",
        "colab_type": "code",
        "colab": {
          "base_uri": "https://localhost:8080/",
          "height": 479
        },
        "outputId": "e633e1ee-b698-4d30-9aea-8e034ff4616d"
      },
      "source": [
        "# remove chapter numbers [I. II. III. etc]\n",
        "tx1 = raw_data.replace('II.','')\n",
        "tx1 = tx1.replace('III.','')\n",
        "tx1 = tx1.replace('IV.','')\n",
        "tx1 = tx1.replace('V.','')\n",
        "tx1 = tx1.replace('VI.','')\n",
        "tx1 = tx1.replace('VII.','')\n",
        "tx1 = tx1.replace('VIII.','')\n",
        "tx1 = tx1.replace('IX.','')\n",
        "tx1 = tx1.replace(' X.',' ')\n",
        "tx1 = tx1.replace('XI.','')\n",
        "tx1 = tx1.replace('XII.','')\n",
        "tx1 = tx1.replace('\\nI.','\\n')\n",
        "print(f\"tx1:\\n{tx1[:300]}\")\n",
        "\n",
        "# replace end of line with space: out=long string\n",
        "# keep sentence ending punctuation [.?!] to allow sentence splitting below\n",
        "# include other angled quote marks found in the text [”“‘’]\n",
        "print(f\"punctuation:  {string.punctuation}\")\n",
        "punc_string = \"\\\"#$%&'()*+,-/:;<=>@[\\]^_`{|}~'”“‘’—\"\n",
        "print(f\"punc string:  {punc_string}\")\n",
        "tt = tx1.maketrans('', '', punc_string)\n",
        "tx2 = tx1.translate(tt)\n",
        "tx2 = tx2.replace('\\n',' ')\n",
        "print(f\"tx2:\\n{tx1[:300]}\")\n",
        "\n",
        "# split into sentences: out=list of strings, each one a sentence\n",
        "tx3 = nltk.tokenize.sent_tokenize(tx2)\n",
        "print(f\"tx3:\\n{tx3[:300]}\")\n",
        "print(f\"type:    {type(tx3)}\")\n",
        "print(f\"length:  {len(tx3)}\")\n",
        "\n",
        "# remove sentence ending punctuation [.?!]\n",
        "# make lowercase\n",
        "# remove white space at start/end\n",
        "tx4 = [s.translate(s.maketrans('','','.?!')) for s in tx3]\n",
        "tx4 = [s.lower() for s in tx4]\n",
        "tx4 = [s.strip() for s in tx4]\n",
        "print(f\"tx4:\\n{tx4[:300]}\")"
      ],
      "execution_count": 81,
      "outputs": [
        {
          "output_type": "stream",
          "text": [
            "tx1:\n",
            "\n",
            " A SCANDAL IN BOHEMIA.\n",
            "\n",
            "To Sherlock Holmes she is always _the_ woman. I have seldom heard him\n",
            "mention her under any other name. In his eyes she eclipses and\n",
            "predominates the whole of her sex. It was not that he felt any emotion\n",
            "akin to love for Irene Adler. All emotions, and that one particularly,\n",
            "\n",
            "punctuation:  !\"#$%&'()*+,-./:;<=>?@[\\]^_`{|}~\n",
            "punc string:  \"#$%&'()*+,-/:;<=>@[\\]^_`{|}~'”“‘’—\n",
            "tx2:\n",
            "\n",
            " A SCANDAL IN BOHEMIA.\n",
            "\n",
            "To Sherlock Holmes she is always _the_ woman. I have seldom heard him\n",
            "mention her under any other name. In his eyes she eclipses and\n",
            "predominates the whole of her sex. It was not that he felt any emotion\n",
            "akin to love for Irene Adler. All emotions, and that one particularly,\n",
            "\n",
            "tx3:\n",
            "['  A SCANDAL IN BOHEMIA.', 'To Sherlock Holmes she is always the woman.', 'I have seldom heard him mention her under any other name.', 'In his eyes she eclipses and predominates the whole of her sex.', 'It was not that he felt any emotion akin to love for Irene Adler.', 'All emotions and that one particularly were abhorrent to his cold precise but admirably balanced mind.', 'He was I take it the most perfect reasoning and observing machine that the world has seen but as a lover he would have placed himself in a false position.', 'He never spoke of the softer passions save with a gibe and a sneer.', 'They were admirable things for the observerexcellent for drawing the veil from mens motives and actions.', 'But for the trained reasoner to admit such intrusions into his own delicate and finely adjusted temperament was to introduce a distracting factor which might throw a doubt upon all his mental results.', 'Grit in a sensitive instrument or a crack in one of his own highpower lenses would not be more disturbing than a strong emotion in a nature such as his.', 'And yet there was but one woman to him and that woman was the late Irene Adler of dubious and questionable memory.', 'I had seen little of Holmes lately.', 'My marriage had drifted us away from each other.', 'My own complete happiness and the homecentred interests which rise up around the man who first finds himself master of his own establishment were sufficient to absorb all my attention while Holmes who loathed every form of society with his whole Bohemian soul remained in our lodgings in Baker Street buried among his old books and alternating from week to week between cocaine and ambition the drowsiness of the drug and the fierce energy of his own keen nature.', 'He was still as ever deeply attracted by the study of crime and occupied his immense faculties and extraordinary powers of observation in following out those clues and clearing up those mysteries which had been abandoned as hopeless by the official police.', 'From time to time I heard some vague account of his doings of his summons to Odessa in the case of the Trepoff murder of his clearing up of the singular tragedy of the Atkinson brothers at Trincomalee and finally of the mission which he had accomplished so delicately and successfully for the reigning family of Holland.', 'Beyond these signs of his activity however which I merely shared with all the readers of the daily press I knew little of my former friend and companion.', 'One nightit was on the twentieth of March 1888I was returning from a journey to a patient for I had now returned to civil practice when my way led me through Baker Street.', 'As I passed the wellremembered door which must always be associated in my mind with my wooing and with the dark incidents of the Study in Scarlet I was seized with a keen desire to see Holmes again and to know how he was employing his extraordinary powers.', 'His rooms were brilliantly lit and even as I looked up I saw his tall spare figure pass twice in a dark silhouette against the blind.', 'He was pacing the room swiftly eagerly with his head sunk upon his chest and his hands clasped behind him.', 'To me who knew his every mood and habit his attitude and manner told their own story.', 'He was at work again.', 'He had risen out of his drugcreated dreams and was hot upon the scent of some new problem.', 'I rang the bell and was shown up to the chamber which had formerly been in part my own.', 'His manner was not effusive.', 'It seldom was but he was glad I think to see me.', 'With hardly a word spoken but with a kindly eye he waved me to an armchair threw across his case of cigars and indicated a spirit case and a gasogene in the corner.', 'Then he stood before the fire and looked me over in his singular introspective fashion.', 'Wedlock suits you he remarked.', 'I think Watson that you have put on seven and a half pounds since I saw you.', 'Seven!', 'I answered.', 'Indeed I should have thought a little more.', 'Just a trifle more I fancy Watson.', 'And in practice again I observe.', 'You did not tell me that you intended to go into harness.', 'Then how do you know?', 'I see it I deduce it.', 'How do I know that you have been getting yourself very wet lately and that you have a most clumsy and careless servant girl?', 'My dear Holmes said I this is too much.', 'You would certainly have been burned had you lived a few centuries ago.', 'It is true that I had a country walk on Thursday and came home in a dreadful mess but as I have changed my clothes I cant imagine how you deduce it.', 'As to Mary Jane she is incorrigible and my wife has given her notice but there again I fail to see how you work it out.', 'He chuckled to himself and rubbed his long nervous hands together.', 'It is simplicity itself said he my eyes tell me that on the inside of your left shoe just where the firelight strikes it the leather is scored by six almost parallel cuts.', 'Obviously they have been caused by someone who has very carelessly scraped round the edges of the sole in order to remove crusted mud from it.', 'Hence you see my double deduction that you had been out in vile weather and that you had a particularly malignant bootslitting specimen of the London slavey.', 'As to your practice if a gentleman walks into my rooms smelling of iodoform with a black mark of nitrate of silver upon his right forefinger and a bulge on the right side of his tophat to show where he has secreted his stethoscope I must be dull indeed if I do not pronounce him to be an active member of the medical profession.', 'I could not help laughing at the ease with which he explained his process of deduction.', 'When I hear you give your reasons I remarked the thing always appears to me to be so ridiculously simple that I could easily do it myself though at each successive instance of your reasoning I am baffled until you explain your process.', 'And yet I believe that my eyes are as good as yours.', 'Quite so he answered lighting a cigarette and throwing himself down into an armchair.', 'You see but you do not observe.', 'The distinction is clear.', 'For example you have frequently seen the steps which lead up from the hall to this room.', 'Frequently.', 'How often?', 'Well some hundreds of times.', 'Then how many are there?', 'How many?', 'I dont know.', 'Quite so!', 'You have not observed.', 'And yet you have seen.', 'That is just my point.', 'Now I know that there are seventeen steps because I have both seen and observed.', 'By the way since you are interested in these little problems and since you are good enough to chronicle one or two of my trifling experiences you may be interested in this.', 'He threw over a sheet of thick pinktinted notepaper which had been lying open upon the table.', 'It came by the last post said he.', 'Read it aloud.', 'The note was undated and without either signature or address.', 'There will call upon you tonight at a quarter to eight oclock it said a gentleman who desires to consult you upon a matter of the very deepest moment.', 'Your recent services to one of the royal houses of Europe have shown that you are one who may safely be trusted with matters which are of an importance which can hardly be exaggerated.', 'This account of you we have from all quarters received.', 'Be in your chamber then at that hour and do not take it amiss if your visitor wear a mask.', 'This is indeed a mystery I remarked.', 'What do you imagine that it means?', 'I have no data yet.', 'It is a capital mistake to theorise before one has data.', 'Insensibly one begins to twist facts to suit theories instead of theories to suit facts.', 'But the note itself.', 'What do you deduce from it?', 'I carefully examined the writing and the paper upon which it was written.', 'The man who wrote it was presumably well to do I remarked endeavouring to imitate my companions processes.', 'Such paper could not be bought under half a crown a packet.', 'It is peculiarly strong and stiff.', 'Peculiarthat is the very word said Holmes.', 'It is not an English paper at all.', 'Hold it up to the light.', 'I did so and saw a large E with a small g a P and a large G with a small t woven into the texture of the paper.', 'What do you make of that?', 'asked Holmes.', 'The name of the maker no doubt or his monogram rather.', 'Not at all.', 'The G with the small t stands for Gesellschaft which is the German for Company.', 'It is a customary contraction like our Co. P of course stands for Papier.', 'Now for the Eg.', 'Let us glance at our Continental Gazetteer.', 'He took down a heavy brown volume from his shelves.', 'Eglow Eglonitzhere we are Egria.', 'It is in a Germanspeaking countryin Bohemia not far from Carlsbad.', 'Remarkable as being the scene of the death of Wallenstein and for its numerous glassfactories and papermills.', 'Ha ha my boy what do you make of that?', 'His eyes sparkled and he sent up a great blue triumphant cloud from his cigarette.', 'The paper was made in Bohemia I said.', 'Precisely.', 'And the man who wrote the note is a German.', 'Do you note the peculiar construction of the sentenceThis account of you we have from all quarters received.', 'A Frenchman or Russian could not have written that.', 'It is the German who is so uncourteous to his verbs.', 'It only remains therefore to discover what is wanted by this German who writes upon Bohemian paper and prefers wearing a mask to showing his face.', 'And here he comes if I am not mistaken to resolve all our doubts.', 'As he spoke there was the sharp sound of horses hoofs and grating wheels against the curb followed by a sharp pull at the bell.', 'Holmes whistled.', 'A pair by the sound said he.', 'Yes he continued glancing out of the window.', 'A nice little brougham and a pair of beauties.', 'A hundred and fifty guineas apiece.', 'Theres money in this case Watson if there is nothing else.', 'I think that I had better go Holmes.', 'Not a bit Doctor.', 'Stay where you are.', 'I am lost without my Boswell.', 'And this promises to be interesting.', 'It would be a pity to miss it.', 'But your client  Never mind him.', 'I may want your help and so may he.', 'Here he comes.', 'Sit down in that armchair Doctor and give us your best attention.', 'A slow and heavy step which had been heard upon the stairs and in the passage paused immediately outside the door.', 'Then there was a loud and authoritative tap.', 'Come in!', 'said Holmes.', 'A man entered who could hardly have been less than six feet six inches in height with the chest and limbs of a Hercules.', 'His dress was rich with a richness which would in England be looked upon as akin to bad taste.', 'Heavy bands of astrakhan were slashed across the sleeves and fronts of his doublebreasted coat while the deep blue cloak which was thrown over his shoulders was lined with flamecoloured silk and secured at the neck with a brooch which consisted of a single flaming beryl.', 'Boots which extended halfway up his calves and which were trimmed at the tops with rich brown fur completed the impression of barbaric opulence which was suggested by his whole appearance.', 'He carried a broadbrimmed hat in his hand while he wore across the upper part of his face extending down past the cheekbones a black vizard mask which he had apparently adjusted that very moment for his hand was still raised to it as he entered.', 'From the lower part of the face he appeared to be a man of strong character with a thick hanging lip and a long straight chin suggestive of resolution pushed to the length of obstinacy.', 'You had my note?', 'he asked with a deep harsh voice and a strongly marked German accent.', 'I told you that I would call.', 'He looked from one to the other of us as if uncertain which to address.', 'Pray take a seat said Holmes.', 'This is my friend and colleague Dr. Watson who is occasionally good enough to help me in my cases.', 'Whom have I the honour to address?', 'You may address me as the Count Von Kramm a Bohemian nobleman.', 'I understand that this gentleman your friend is a man of honour and discretion whom I may trust with a matter of the most extreme importance.', 'If not I should much prefer to communicate with you alone.', 'I rose to go but Holmes caught me by the wrist and pushed me back into my chair.', 'It is both or none said he.', 'You may say before this gentleman anything which you may say to me.', 'The Count shrugged his broad shoulders.', 'Then I must begin said he by binding you both to absolute secrecy for two years at the end of that time the matter will be of no importance.', 'At present it is not too much to say that it is of such weight it may have an influence upon European history.', 'I promise said Holmes.', 'And I.', 'You will excuse this mask continued our strange visitor.', 'The august person who employs me wishes his agent to be unknown to you and I may confess at once that the title by which I have just called myself is not exactly my own.', 'I was aware of it said Holmes dryly.', 'The circumstances are of great delicacy and every precaution has to be taken to quench what might grow to be an immense scandal and seriously compromise one of the reigning families of Europe.', 'To speak plainly the matter implicates the great House of Ormstein hereditary kings of Bohemia.', 'I was also aware of that murmured Holmes settling himself down in his armchair and closing his eyes.', 'Our visitor glanced with some apparent surprise at the languid lounging figure of the man who had been no doubt depicted to him as the most incisive reasoner and most energetic agent in Europe.', 'Holmes slowly reopened his eyes and looked impatiently at his gigantic client.', 'If your Majesty would condescend to state your case he remarked I should be better able to advise you.', 'The man sprang from his chair and paced up and down the room in uncontrollable agitation.', 'Then with a gesture of desperation he tore the mask from his face and hurled it upon the ground.', 'You are right he cried I am the King.', 'Why should I attempt to conceal it?', 'Why indeed?', 'murmured Holmes.', 'Your Majesty had not spoken before I was aware that I was addressing Wilhelm Gottsreich Sigismond von Ormstein Grand Duke of CasselFelstein and hereditary King of Bohemia.', 'But you can understand said our strange visitor sitting down once more and passing his hand over his high white forehead you can understand that I am not accustomed to doing such business in my own person.', 'Yet the matter was so delicate that I could not confide it to an agent without putting myself in his power.', 'I have come incognito from Prague for the purpose of consulting you.', 'Then pray consult said Holmes shutting his eyes once more.', 'The facts are briefly these Some five years ago during a lengthy visit to Warsaw I made the acquaintance of the wellknown adventuress Irene Adler.', 'The name is no doubt familiar to you.', 'Kindly look her up in my index Doctor murmured Holmes without opening his eyes.', 'For many years he had adopted a system of docketing all paragraphs concerning men and things so that it was difficult to name a subject or a person on which he could not at once furnish information.', 'In this case I found her biography sandwiched in between that of a Hebrew rabbi and that of a staffcommander who had written a monograph upon the deepsea fishes.', 'Let me see!', 'said Holmes.', 'Hum!', 'Born in New Jersey in the year 1858.', 'Contraltohum!', 'La Scala hum!', 'Prima donna Imperial Opera of Warsawyes!', 'Retired from operatic stageha!', 'Living in Londonquite so!', 'Your Majesty as I understand became entangled with this young person wrote her some compromising letters and is now desirous of getting those letters back.', 'Precisely so.', 'But how  Was there a secret marriage?', 'None.', 'No legal papers or certificates?', 'None.', 'Then I fail to follow your Majesty.', 'If this young person should produce her letters for blackmailing or other purposes how is she to prove their authenticity?', 'There is the writing.', 'Pooh pooh!', 'Forgery.', 'My private notepaper.', 'Stolen.', 'My own seal.', 'Imitated.', 'My photograph.', 'Bought.', 'We were both in the photograph.', 'Oh dear!', 'That is very bad!', 'Your Majesty has indeed committed an indiscretion.', 'I was madinsane.', 'You have compromised yourself seriously.', 'I was only Crown Prince then.', 'I was young.', 'I am but thirty now.', 'It must be recovered.', 'We have tried and failed.', 'Your Majesty must pay.', 'It must be bought.', 'She will not sell.', 'Stolen then.', 'Five attempts have been made.', 'Twice burglars in my pay ransacked her house.', 'Once we diverted her luggage when she travelled.', 'Twice she has been waylaid.', 'There has been no result.', 'No sign of it?', 'Absolutely none.', 'Holmes laughed.', 'It is quite a pretty little problem said he.', 'But a very serious one to me returned the King reproachfully.', 'Very indeed.', 'And what does she propose to do with the photograph?', 'To ruin me.', 'But how?', 'I am about to be married.', 'So I have heard.', 'To Clotilde Lothman von SaxeMeningen second daughter of the King of Scandinavia.', 'You may know the strict principles of her family.', 'She is herself the very soul of delicacy.', 'A shadow of a doubt as to my conduct would bring the matter to an end.', 'And Irene Adler?', 'Threatens to send them the photograph.', 'And she will do it.', 'I know that she will do it.', 'You do not know her but she has a soul of steel.', 'She has the face of the most beautiful of women and the mind of the most resolute of men.', 'Rather than I should marry another woman there are no lengths to which she would not gonone.', 'You are sure that she has not sent it yet?', 'I am sure.', 'And why?', 'Because she has said that she would send it on the day when the betrothal was publicly proclaimed.', 'That will be next Monday.', 'Oh then we have three days yet said Holmes with a yawn.', 'That is very fortunate as I have one or two matters of importance to look into just at present.', 'Your Majesty will of course stay in London for the present?', 'Certainly.', 'You will find me at the Langham under the name of the Count Von Kramm.', 'Then I shall drop you a line to let you know how we progress.', 'Pray do so.', 'I shall be all anxiety.', 'Then as to money?', 'You have carte blanche.', 'Absolutely?', 'I tell you that I would give one of the provinces of my kingdom to have that photograph.', 'And for present expenses?', 'The King took a heavy chamois leather bag from under his cloak and laid it on the table.', 'There are three hundred pounds in gold and seven hundred in notes he said.', 'Holmes scribbled a receipt upon a sheet of his notebook and handed it to him.', 'And Mademoiselles address?', 'he asked.', 'Is Briony Lodge Serpentine Avenue St. Johns Wood.', 'Holmes took a note of it.', 'One other question said he.', 'Was the photograph a cabinet?', 'It was.', 'Then goodnight your Majesty and I trust that we shall soon have some good news for you.', 'And goodnight Watson he added as the wheels of the royal brougham rolled down the street.', 'If you will be good enough to call tomorrow afternoon at three oclock I should like to chat this little matter over with you.', 'At three oclock precisely I was at Baker Street but Holmes had not yet returned.', 'The landlady informed me that he had left the house shortly after eight oclock in the morning.', 'I sat down beside the fire however with the intention of awaiting him however long he might be.', 'I was already deeply interested in his inquiry for though it was surrounded by none of the grim and strange features which were associated with the two crimes which I have already recorded still the nature of the case and the exalted station of his client gave it a character of its own.', 'Indeed apart from the nature of the investigation which my friend had on hand there was something in his masterly grasp of a situation and his keen incisive reasoning which made it a pleasure to me to study his system of work and to follow the quick subtle methods by which he disentangled the most inextricable mysteries.', 'So accustomed was I to his invariable success that the very possibility of his failing had ceased to enter into my head.', 'It was close upon four before the door opened and a drunkenlooking groom illkempt and sidewhiskered with an inflamed face and disreputable clothes walked into the room.', 'Accustomed as I was to my friends amazing powers in the use of disguises I had to look three times before I was certain that it was indeed he.', 'With a nod he vanished into the bedroom whence he emerged in five minutes tweedsuited and respectable as of old.', 'Putting his hands into his pockets he stretched out his legs in front of the fire and laughed heartily for some minutes.', 'Well really!', 'he cried and then he choked and laughed again until he was obliged to lie back limp and helpless in the chair.', 'What is it?', 'Its quite too funny.', 'I am sure you could never guess how I employed my morning or what I ended by doing.', 'I cant imagine.', 'I suppose that you have been watching the habits and perhaps the house of Miss Irene Adler.']\n",
            "type:    <class 'list'>\n",
            "length:  669\n",
            "tx4:\n",
            "['a scandal in bohemia', 'to sherlock holmes she is always the woman', 'i have seldom heard him mention her under any other name', 'in his eyes she eclipses and predominates the whole of her sex', 'it was not that he felt any emotion akin to love for irene adler', 'all emotions and that one particularly were abhorrent to his cold precise but admirably balanced mind', 'he was i take it the most perfect reasoning and observing machine that the world has seen but as a lover he would have placed himself in a false position', 'he never spoke of the softer passions save with a gibe and a sneer', 'they were admirable things for the observerexcellent for drawing the veil from mens motives and actions', 'but for the trained reasoner to admit such intrusions into his own delicate and finely adjusted temperament was to introduce a distracting factor which might throw a doubt upon all his mental results', 'grit in a sensitive instrument or a crack in one of his own highpower lenses would not be more disturbing than a strong emotion in a nature such as his', 'and yet there was but one woman to him and that woman was the late irene adler of dubious and questionable memory', 'i had seen little of holmes lately', 'my marriage had drifted us away from each other', 'my own complete happiness and the homecentred interests which rise up around the man who first finds himself master of his own establishment were sufficient to absorb all my attention while holmes who loathed every form of society with his whole bohemian soul remained in our lodgings in baker street buried among his old books and alternating from week to week between cocaine and ambition the drowsiness of the drug and the fierce energy of his own keen nature', 'he was still as ever deeply attracted by the study of crime and occupied his immense faculties and extraordinary powers of observation in following out those clues and clearing up those mysteries which had been abandoned as hopeless by the official police', 'from time to time i heard some vague account of his doings of his summons to odessa in the case of the trepoff murder of his clearing up of the singular tragedy of the atkinson brothers at trincomalee and finally of the mission which he had accomplished so delicately and successfully for the reigning family of holland', 'beyond these signs of his activity however which i merely shared with all the readers of the daily press i knew little of my former friend and companion', 'one nightit was on the twentieth of march 1888i was returning from a journey to a patient for i had now returned to civil practice when my way led me through baker street', 'as i passed the wellremembered door which must always be associated in my mind with my wooing and with the dark incidents of the study in scarlet i was seized with a keen desire to see holmes again and to know how he was employing his extraordinary powers', 'his rooms were brilliantly lit and even as i looked up i saw his tall spare figure pass twice in a dark silhouette against the blind', 'he was pacing the room swiftly eagerly with his head sunk upon his chest and his hands clasped behind him', 'to me who knew his every mood and habit his attitude and manner told their own story', 'he was at work again', 'he had risen out of his drugcreated dreams and was hot upon the scent of some new problem', 'i rang the bell and was shown up to the chamber which had formerly been in part my own', 'his manner was not effusive', 'it seldom was but he was glad i think to see me', 'with hardly a word spoken but with a kindly eye he waved me to an armchair threw across his case of cigars and indicated a spirit case and a gasogene in the corner', 'then he stood before the fire and looked me over in his singular introspective fashion', 'wedlock suits you he remarked', 'i think watson that you have put on seven and a half pounds since i saw you', 'seven', 'i answered', 'indeed i should have thought a little more', 'just a trifle more i fancy watson', 'and in practice again i observe', 'you did not tell me that you intended to go into harness', 'then how do you know', 'i see it i deduce it', 'how do i know that you have been getting yourself very wet lately and that you have a most clumsy and careless servant girl', 'my dear holmes said i this is too much', 'you would certainly have been burned had you lived a few centuries ago', 'it is true that i had a country walk on thursday and came home in a dreadful mess but as i have changed my clothes i cant imagine how you deduce it', 'as to mary jane she is incorrigible and my wife has given her notice but there again i fail to see how you work it out', 'he chuckled to himself and rubbed his long nervous hands together', 'it is simplicity itself said he my eyes tell me that on the inside of your left shoe just where the firelight strikes it the leather is scored by six almost parallel cuts', 'obviously they have been caused by someone who has very carelessly scraped round the edges of the sole in order to remove crusted mud from it', 'hence you see my double deduction that you had been out in vile weather and that you had a particularly malignant bootslitting specimen of the london slavey', 'as to your practice if a gentleman walks into my rooms smelling of iodoform with a black mark of nitrate of silver upon his right forefinger and a bulge on the right side of his tophat to show where he has secreted his stethoscope i must be dull indeed if i do not pronounce him to be an active member of the medical profession', 'i could not help laughing at the ease with which he explained his process of deduction', 'when i hear you give your reasons i remarked the thing always appears to me to be so ridiculously simple that i could easily do it myself though at each successive instance of your reasoning i am baffled until you explain your process', 'and yet i believe that my eyes are as good as yours', 'quite so he answered lighting a cigarette and throwing himself down into an armchair', 'you see but you do not observe', 'the distinction is clear', 'for example you have frequently seen the steps which lead up from the hall to this room', 'frequently', 'how often', 'well some hundreds of times', 'then how many are there', 'how many', 'i dont know', 'quite so', 'you have not observed', 'and yet you have seen', 'that is just my point', 'now i know that there are seventeen steps because i have both seen and observed', 'by the way since you are interested in these little problems and since you are good enough to chronicle one or two of my trifling experiences you may be interested in this', 'he threw over a sheet of thick pinktinted notepaper which had been lying open upon the table', 'it came by the last post said he', 'read it aloud', 'the note was undated and without either signature or address', 'there will call upon you tonight at a quarter to eight oclock it said a gentleman who desires to consult you upon a matter of the very deepest moment', 'your recent services to one of the royal houses of europe have shown that you are one who may safely be trusted with matters which are of an importance which can hardly be exaggerated', 'this account of you we have from all quarters received', 'be in your chamber then at that hour and do not take it amiss if your visitor wear a mask', 'this is indeed a mystery i remarked', 'what do you imagine that it means', 'i have no data yet', 'it is a capital mistake to theorise before one has data', 'insensibly one begins to twist facts to suit theories instead of theories to suit facts', 'but the note itself', 'what do you deduce from it', 'i carefully examined the writing and the paper upon which it was written', 'the man who wrote it was presumably well to do i remarked endeavouring to imitate my companions processes', 'such paper could not be bought under half a crown a packet', 'it is peculiarly strong and stiff', 'peculiarthat is the very word said holmes', 'it is not an english paper at all', 'hold it up to the light', 'i did so and saw a large e with a small g a p and a large g with a small t woven into the texture of the paper', 'what do you make of that', 'asked holmes', 'the name of the maker no doubt or his monogram rather', 'not at all', 'the g with the small t stands for gesellschaft which is the german for company', 'it is a customary contraction like our co p of course stands for papier', 'now for the eg', 'let us glance at our continental gazetteer', 'he took down a heavy brown volume from his shelves', 'eglow eglonitzhere we are egria', 'it is in a germanspeaking countryin bohemia not far from carlsbad', 'remarkable as being the scene of the death of wallenstein and for its numerous glassfactories and papermills', 'ha ha my boy what do you make of that', 'his eyes sparkled and he sent up a great blue triumphant cloud from his cigarette', 'the paper was made in bohemia i said', 'precisely', 'and the man who wrote the note is a german', 'do you note the peculiar construction of the sentencethis account of you we have from all quarters received', 'a frenchman or russian could not have written that', 'it is the german who is so uncourteous to his verbs', 'it only remains therefore to discover what is wanted by this german who writes upon bohemian paper and prefers wearing a mask to showing his face', 'and here he comes if i am not mistaken to resolve all our doubts', 'as he spoke there was the sharp sound of horses hoofs and grating wheels against the curb followed by a sharp pull at the bell', 'holmes whistled', 'a pair by the sound said he', 'yes he continued glancing out of the window', 'a nice little brougham and a pair of beauties', 'a hundred and fifty guineas apiece', 'theres money in this case watson if there is nothing else', 'i think that i had better go holmes', 'not a bit doctor', 'stay where you are', 'i am lost without my boswell', 'and this promises to be interesting', 'it would be a pity to miss it', 'but your client  never mind him', 'i may want your help and so may he', 'here he comes', 'sit down in that armchair doctor and give us your best attention', 'a slow and heavy step which had been heard upon the stairs and in the passage paused immediately outside the door', 'then there was a loud and authoritative tap', 'come in', 'said holmes', 'a man entered who could hardly have been less than six feet six inches in height with the chest and limbs of a hercules', 'his dress was rich with a richness which would in england be looked upon as akin to bad taste', 'heavy bands of astrakhan were slashed across the sleeves and fronts of his doublebreasted coat while the deep blue cloak which was thrown over his shoulders was lined with flamecoloured silk and secured at the neck with a brooch which consisted of a single flaming beryl', 'boots which extended halfway up his calves and which were trimmed at the tops with rich brown fur completed the impression of barbaric opulence which was suggested by his whole appearance', 'he carried a broadbrimmed hat in his hand while he wore across the upper part of his face extending down past the cheekbones a black vizard mask which he had apparently adjusted that very moment for his hand was still raised to it as he entered', 'from the lower part of the face he appeared to be a man of strong character with a thick hanging lip and a long straight chin suggestive of resolution pushed to the length of obstinacy', 'you had my note', 'he asked with a deep harsh voice and a strongly marked german accent', 'i told you that i would call', 'he looked from one to the other of us as if uncertain which to address', 'pray take a seat said holmes', 'this is my friend and colleague dr watson who is occasionally good enough to help me in my cases', 'whom have i the honour to address', 'you may address me as the count von kramm a bohemian nobleman', 'i understand that this gentleman your friend is a man of honour and discretion whom i may trust with a matter of the most extreme importance', 'if not i should much prefer to communicate with you alone', 'i rose to go but holmes caught me by the wrist and pushed me back into my chair', 'it is both or none said he', 'you may say before this gentleman anything which you may say to me', 'the count shrugged his broad shoulders', 'then i must begin said he by binding you both to absolute secrecy for two years at the end of that time the matter will be of no importance', 'at present it is not too much to say that it is of such weight it may have an influence upon european history', 'i promise said holmes', 'and i', 'you will excuse this mask continued our strange visitor', 'the august person who employs me wishes his agent to be unknown to you and i may confess at once that the title by which i have just called myself is not exactly my own', 'i was aware of it said holmes dryly', 'the circumstances are of great delicacy and every precaution has to be taken to quench what might grow to be an immense scandal and seriously compromise one of the reigning families of europe', 'to speak plainly the matter implicates the great house of ormstein hereditary kings of bohemia', 'i was also aware of that murmured holmes settling himself down in his armchair and closing his eyes', 'our visitor glanced with some apparent surprise at the languid lounging figure of the man who had been no doubt depicted to him as the most incisive reasoner and most energetic agent in europe', 'holmes slowly reopened his eyes and looked impatiently at his gigantic client', 'if your majesty would condescend to state your case he remarked i should be better able to advise you', 'the man sprang from his chair and paced up and down the room in uncontrollable agitation', 'then with a gesture of desperation he tore the mask from his face and hurled it upon the ground', 'you are right he cried i am the king', 'why should i attempt to conceal it', 'why indeed', 'murmured holmes', 'your majesty had not spoken before i was aware that i was addressing wilhelm gottsreich sigismond von ormstein grand duke of casselfelstein and hereditary king of bohemia', 'but you can understand said our strange visitor sitting down once more and passing his hand over his high white forehead you can understand that i am not accustomed to doing such business in my own person', 'yet the matter was so delicate that i could not confide it to an agent without putting myself in his power', 'i have come incognito from prague for the purpose of consulting you', 'then pray consult said holmes shutting his eyes once more', 'the facts are briefly these some five years ago during a lengthy visit to warsaw i made the acquaintance of the wellknown adventuress irene adler', 'the name is no doubt familiar to you', 'kindly look her up in my index doctor murmured holmes without opening his eyes', 'for many years he had adopted a system of docketing all paragraphs concerning men and things so that it was difficult to name a subject or a person on which he could not at once furnish information', 'in this case i found her biography sandwiched in between that of a hebrew rabbi and that of a staffcommander who had written a monograph upon the deepsea fishes', 'let me see', 'said holmes', 'hum', 'born in new jersey in the year 1858', 'contraltohum', 'la scala hum', 'prima donna imperial opera of warsawyes', 'retired from operatic stageha', 'living in londonquite so', 'your majesty as i understand became entangled with this young person wrote her some compromising letters and is now desirous of getting those letters back', 'precisely so', 'but how  was there a secret marriage', 'none', 'no legal papers or certificates', 'none', 'then i fail to follow your majesty', 'if this young person should produce her letters for blackmailing or other purposes how is she to prove their authenticity', 'there is the writing', 'pooh pooh', 'forgery', 'my private notepaper', 'stolen', 'my own seal', 'imitated', 'my photograph', 'bought', 'we were both in the photograph', 'oh dear', 'that is very bad', 'your majesty has indeed committed an indiscretion', 'i was madinsane', 'you have compromised yourself seriously', 'i was only crown prince then', 'i was young', 'i am but thirty now', 'it must be recovered', 'we have tried and failed', 'your majesty must pay', 'it must be bought', 'she will not sell', 'stolen then', 'five attempts have been made', 'twice burglars in my pay ransacked her house', 'once we diverted her luggage when she travelled', 'twice she has been waylaid', 'there has been no result', 'no sign of it', 'absolutely none', 'holmes laughed', 'it is quite a pretty little problem said he', 'but a very serious one to me returned the king reproachfully', 'very indeed', 'and what does she propose to do with the photograph', 'to ruin me', 'but how', 'i am about to be married', 'so i have heard', 'to clotilde lothman von saxemeningen second daughter of the king of scandinavia', 'you may know the strict principles of her family', 'she is herself the very soul of delicacy', 'a shadow of a doubt as to my conduct would bring the matter to an end', 'and irene adler', 'threatens to send them the photograph', 'and she will do it', 'i know that she will do it', 'you do not know her but she has a soul of steel', 'she has the face of the most beautiful of women and the mind of the most resolute of men', 'rather than i should marry another woman there are no lengths to which she would not gonone', 'you are sure that she has not sent it yet', 'i am sure', 'and why', 'because she has said that she would send it on the day when the betrothal was publicly proclaimed', 'that will be next monday', 'oh then we have three days yet said holmes with a yawn', 'that is very fortunate as i have one or two matters of importance to look into just at present', 'your majesty will of course stay in london for the present', 'certainly', 'you will find me at the langham under the name of the count von kramm', 'then i shall drop you a line to let you know how we progress', 'pray do so', 'i shall be all anxiety', 'then as to money', 'you have carte blanche', 'absolutely', 'i tell you that i would give one of the provinces of my kingdom to have that photograph', 'and for present expenses', 'the king took a heavy chamois leather bag from under his cloak and laid it on the table', 'there are three hundred pounds in gold and seven hundred in notes he said', 'holmes scribbled a receipt upon a sheet of his notebook and handed it to him', 'and mademoiselles address', 'he asked', 'is briony lodge serpentine avenue st johns wood', 'holmes took a note of it', 'one other question said he', 'was the photograph a cabinet', 'it was', 'then goodnight your majesty and i trust that we shall soon have some good news for you', 'and goodnight watson he added as the wheels of the royal brougham rolled down the street', 'if you will be good enough to call tomorrow afternoon at three oclock i should like to chat this little matter over with you', 'at three oclock precisely i was at baker street but holmes had not yet returned', 'the landlady informed me that he had left the house shortly after eight oclock in the morning', 'i sat down beside the fire however with the intention of awaiting him however long he might be', 'i was already deeply interested in his inquiry for though it was surrounded by none of the grim and strange features which were associated with the two crimes which i have already recorded still the nature of the case and the exalted station of his client gave it a character of its own', 'indeed apart from the nature of the investigation which my friend had on hand there was something in his masterly grasp of a situation and his keen incisive reasoning which made it a pleasure to me to study his system of work and to follow the quick subtle methods by which he disentangled the most inextricable mysteries', 'so accustomed was i to his invariable success that the very possibility of his failing had ceased to enter into my head', 'it was close upon four before the door opened and a drunkenlooking groom illkempt and sidewhiskered with an inflamed face and disreputable clothes walked into the room', 'accustomed as i was to my friends amazing powers in the use of disguises i had to look three times before i was certain that it was indeed he', 'with a nod he vanished into the bedroom whence he emerged in five minutes tweedsuited and respectable as of old', 'putting his hands into his pockets he stretched out his legs in front of the fire and laughed heartily for some minutes', 'well really', 'he cried and then he choked and laughed again until he was obliged to lie back limp and helpless in the chair', 'what is it', 'its quite too funny', 'i am sure you could never guess how i employed my morning or what i ended by doing', 'i cant imagine', 'i suppose that you have been watching the habits and perhaps the house of miss irene adler']\n"
          ],
          "name": "stdout"
        }
      ]
    },
    {
      "cell_type": "code",
      "metadata": {
        "id": "rrePlnxjlDT0",
        "colab_type": "code",
        "colab": {}
      },
      "source": [
        ""
      ],
      "execution_count": null,
      "outputs": []
    }
  ]
}